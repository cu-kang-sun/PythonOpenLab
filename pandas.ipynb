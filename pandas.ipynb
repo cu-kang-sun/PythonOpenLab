{
 "cells": [
  {
   "cell_type": "raw",
   "metadata": {},
   "source": [
    "New York Taxi data\n",
    "Go to the website http://www.nyc.gov/html/tlc/html/about/trip_record_data.shtml\n",
    "Choose green taxi data in February 2018 and download\n",
    "Or you can use a ‘git pull’ if you have already set up the git repository of python open lab\n",
    "The csv file in the folder of files\n"
   ]
  },
  {
   "cell_type": "raw",
   "metadata": {},
   "source": [
    "Pandas\n",
    "Pandas is a package built on top of Numpy\n",
    "Dataframe is the core data structure of Pandas\n",
    "Multidimensional arrays with rows and columns\n",
    "Heterogeneous types and/or missing data \n",
    "We can see dataframe as a matrix\n"
   ]
  },
  {
   "cell_type": "raw",
   "metadata": {},
   "source": [
    "Loading files\n",
    "In pandas, different types of data can be loaded easily\n",
    "Code:\n",
    "import pandas as pd\n",
    "pd.read_csv(filename)\n",
    "pd.read_excel(filename)\n",
    "pd.read_html(filename)\n",
    "pd.read_sql(filename)\n"
   ]
  },
  {
   "cell_type": "code",
   "execution_count": 1,
   "metadata": {},
   "outputs": [
    {
     "name": "stdout",
     "output_type": "stream",
     "text": [
      "<class 'pandas.core.frame.DataFrame'>\n"
     ]
    }
   ],
   "source": [
    "#Loading our taxi data\n",
    "import pandas as pd\n",
    "import numpy as np\n",
    "taxi_data = pd.read_csv('./files/green_tripdata_2018-02.csv')\n",
    "print(type(taxi_data))"
   ]
  },
  {
   "cell_type": "raw",
   "metadata": {},
   "source": [
    "The variable taxi_data holds all data from the csv file\n",
    "The file path need to be correct according to your file system\n",
    "Absolute path or relative path are both fine\n",
    "Function ‘read_csv’ returns a dataframe"
   ]
  },
  {
   "cell_type": "code",
   "execution_count": 2,
   "metadata": {},
   "outputs": [
    {
     "data": {
      "text/html": [
       "<div>\n",
       "<style scoped>\n",
       "    .dataframe tbody tr th:only-of-type {\n",
       "        vertical-align: middle;\n",
       "    }\n",
       "\n",
       "    .dataframe tbody tr th {\n",
       "        vertical-align: top;\n",
       "    }\n",
       "\n",
       "    .dataframe thead th {\n",
       "        text-align: right;\n",
       "    }\n",
       "</style>\n",
       "<table border=\"1\" class=\"dataframe\">\n",
       "  <thead>\n",
       "    <tr style=\"text-align: right;\">\n",
       "      <th></th>\n",
       "      <th>VendorID</th>\n",
       "      <th>lpep_pickup_datetime</th>\n",
       "      <th>lpep_dropoff_datetime</th>\n",
       "      <th>store_and_fwd_flag</th>\n",
       "      <th>RatecodeID</th>\n",
       "      <th>PULocationID</th>\n",
       "      <th>DOLocationID</th>\n",
       "      <th>passenger_count</th>\n",
       "      <th>trip_distance</th>\n",
       "      <th>fare_amount</th>\n",
       "      <th>extra</th>\n",
       "      <th>mta_tax</th>\n",
       "      <th>tip_amount</th>\n",
       "      <th>tolls_amount</th>\n",
       "      <th>ehail_fee</th>\n",
       "      <th>improvement_surcharge</th>\n",
       "      <th>total_amount</th>\n",
       "      <th>payment_type</th>\n",
       "      <th>trip_type</th>\n",
       "    </tr>\n",
       "  </thead>\n",
       "  <tbody>\n",
       "    <tr>\n",
       "      <th>0</th>\n",
       "      <td>2</td>\n",
       "      <td>2018-02-01 00:39:38</td>\n",
       "      <td>2018-02-01 00:39:41</td>\n",
       "      <td>N</td>\n",
       "      <td>5</td>\n",
       "      <td>97</td>\n",
       "      <td>65</td>\n",
       "      <td>1</td>\n",
       "      <td>0.00</td>\n",
       "      <td>20.0</td>\n",
       "      <td>0.0</td>\n",
       "      <td>0.0</td>\n",
       "      <td>3.00</td>\n",
       "      <td>0.0</td>\n",
       "      <td>NaN</td>\n",
       "      <td>0.0</td>\n",
       "      <td>23.00</td>\n",
       "      <td>1</td>\n",
       "      <td>2</td>\n",
       "    </tr>\n",
       "    <tr>\n",
       "      <th>1</th>\n",
       "      <td>2</td>\n",
       "      <td>2018-02-01 00:58:28</td>\n",
       "      <td>2018-02-01 01:05:35</td>\n",
       "      <td>N</td>\n",
       "      <td>1</td>\n",
       "      <td>256</td>\n",
       "      <td>80</td>\n",
       "      <td>5</td>\n",
       "      <td>1.60</td>\n",
       "      <td>7.5</td>\n",
       "      <td>0.5</td>\n",
       "      <td>0.5</td>\n",
       "      <td>0.88</td>\n",
       "      <td>0.0</td>\n",
       "      <td>NaN</td>\n",
       "      <td>0.3</td>\n",
       "      <td>9.68</td>\n",
       "      <td>1</td>\n",
       "      <td>1</td>\n",
       "    </tr>\n",
       "    <tr>\n",
       "      <th>2</th>\n",
       "      <td>2</td>\n",
       "      <td>2018-02-01 00:56:05</td>\n",
       "      <td>2018-02-01 01:18:54</td>\n",
       "      <td>N</td>\n",
       "      <td>1</td>\n",
       "      <td>25</td>\n",
       "      <td>95</td>\n",
       "      <td>1</td>\n",
       "      <td>9.60</td>\n",
       "      <td>28.5</td>\n",
       "      <td>0.5</td>\n",
       "      <td>0.5</td>\n",
       "      <td>5.96</td>\n",
       "      <td>0.0</td>\n",
       "      <td>NaN</td>\n",
       "      <td>0.3</td>\n",
       "      <td>35.76</td>\n",
       "      <td>1</td>\n",
       "      <td>1</td>\n",
       "    </tr>\n",
       "    <tr>\n",
       "      <th>3</th>\n",
       "      <td>2</td>\n",
       "      <td>2018-02-01 00:12:40</td>\n",
       "      <td>2018-02-01 00:15:50</td>\n",
       "      <td>N</td>\n",
       "      <td>1</td>\n",
       "      <td>61</td>\n",
       "      <td>61</td>\n",
       "      <td>1</td>\n",
       "      <td>0.73</td>\n",
       "      <td>4.5</td>\n",
       "      <td>0.5</td>\n",
       "      <td>0.5</td>\n",
       "      <td>0.00</td>\n",
       "      <td>0.0</td>\n",
       "      <td>NaN</td>\n",
       "      <td>0.3</td>\n",
       "      <td>5.80</td>\n",
       "      <td>2</td>\n",
       "      <td>1</td>\n",
       "    </tr>\n",
       "    <tr>\n",
       "      <th>4</th>\n",
       "      <td>2</td>\n",
       "      <td>2018-02-01 00:45:18</td>\n",
       "      <td>2018-02-01 00:51:56</td>\n",
       "      <td>N</td>\n",
       "      <td>1</td>\n",
       "      <td>65</td>\n",
       "      <td>17</td>\n",
       "      <td>2</td>\n",
       "      <td>1.87</td>\n",
       "      <td>8.0</td>\n",
       "      <td>0.5</td>\n",
       "      <td>0.5</td>\n",
       "      <td>0.00</td>\n",
       "      <td>0.0</td>\n",
       "      <td>NaN</td>\n",
       "      <td>0.3</td>\n",
       "      <td>9.30</td>\n",
       "      <td>2</td>\n",
       "      <td>1</td>\n",
       "    </tr>\n",
       "  </tbody>\n",
       "</table>\n",
       "</div>"
      ],
      "text/plain": [
       "   VendorID lpep_pickup_datetime lpep_dropoff_datetime store_and_fwd_flag  \\\n",
       "0         2  2018-02-01 00:39:38   2018-02-01 00:39:41                  N   \n",
       "1         2  2018-02-01 00:58:28   2018-02-01 01:05:35                  N   \n",
       "2         2  2018-02-01 00:56:05   2018-02-01 01:18:54                  N   \n",
       "3         2  2018-02-01 00:12:40   2018-02-01 00:15:50                  N   \n",
       "4         2  2018-02-01 00:45:18   2018-02-01 00:51:56                  N   \n",
       "\n",
       "   RatecodeID  PULocationID  DOLocationID  passenger_count  trip_distance  \\\n",
       "0           5            97            65                1           0.00   \n",
       "1           1           256            80                5           1.60   \n",
       "2           1            25            95                1           9.60   \n",
       "3           1            61            61                1           0.73   \n",
       "4           1            65            17                2           1.87   \n",
       "\n",
       "   fare_amount  extra  mta_tax  tip_amount  tolls_amount  ehail_fee  \\\n",
       "0         20.0    0.0      0.0        3.00           0.0        NaN   \n",
       "1          7.5    0.5      0.5        0.88           0.0        NaN   \n",
       "2         28.5    0.5      0.5        5.96           0.0        NaN   \n",
       "3          4.5    0.5      0.5        0.00           0.0        NaN   \n",
       "4          8.0    0.5      0.5        0.00           0.0        NaN   \n",
       "\n",
       "   improvement_surcharge  total_amount  payment_type  trip_type  \n",
       "0                    0.0         23.00             1          2  \n",
       "1                    0.3          9.68             1          1  \n",
       "2                    0.3         35.76             1          1  \n",
       "3                    0.3          5.80             2          1  \n",
       "4                    0.3          9.30             2          1  "
      ]
     },
     "execution_count": 2,
     "metadata": {},
     "output_type": "execute_result"
    }
   ],
   "source": [
    "# to see the head of this dataframe\n",
    "#show first 5 lines by default\n",
    "\n",
    "taxi_data.head()"
   ]
  },
  {
   "cell_type": "code",
   "execution_count": 3,
   "metadata": {},
   "outputs": [
    {
     "data": {
      "text/html": [
       "<div>\n",
       "<style scoped>\n",
       "    .dataframe tbody tr th:only-of-type {\n",
       "        vertical-align: middle;\n",
       "    }\n",
       "\n",
       "    .dataframe tbody tr th {\n",
       "        vertical-align: top;\n",
       "    }\n",
       "\n",
       "    .dataframe thead th {\n",
       "        text-align: right;\n",
       "    }\n",
       "</style>\n",
       "<table border=\"1\" class=\"dataframe\">\n",
       "  <thead>\n",
       "    <tr style=\"text-align: right;\">\n",
       "      <th></th>\n",
       "      <th>VendorID</th>\n",
       "      <th>lpep_pickup_datetime</th>\n",
       "      <th>lpep_dropoff_datetime</th>\n",
       "      <th>store_and_fwd_flag</th>\n",
       "      <th>RatecodeID</th>\n",
       "      <th>PULocationID</th>\n",
       "      <th>DOLocationID</th>\n",
       "      <th>passenger_count</th>\n",
       "      <th>trip_distance</th>\n",
       "      <th>fare_amount</th>\n",
       "      <th>extra</th>\n",
       "      <th>mta_tax</th>\n",
       "      <th>tip_amount</th>\n",
       "      <th>tolls_amount</th>\n",
       "      <th>ehail_fee</th>\n",
       "      <th>improvement_surcharge</th>\n",
       "      <th>total_amount</th>\n",
       "      <th>payment_type</th>\n",
       "      <th>trip_type</th>\n",
       "    </tr>\n",
       "  </thead>\n",
       "  <tbody>\n",
       "    <tr>\n",
       "      <th>0</th>\n",
       "      <td>2</td>\n",
       "      <td>2018-02-01 00:39:38</td>\n",
       "      <td>2018-02-01 00:39:41</td>\n",
       "      <td>N</td>\n",
       "      <td>5</td>\n",
       "      <td>97</td>\n",
       "      <td>65</td>\n",
       "      <td>1</td>\n",
       "      <td>0.00</td>\n",
       "      <td>20.0</td>\n",
       "      <td>0.0</td>\n",
       "      <td>0.0</td>\n",
       "      <td>3.00</td>\n",
       "      <td>0.0</td>\n",
       "      <td>NaN</td>\n",
       "      <td>0.0</td>\n",
       "      <td>23.00</td>\n",
       "      <td>1</td>\n",
       "      <td>2</td>\n",
       "    </tr>\n",
       "    <tr>\n",
       "      <th>1</th>\n",
       "      <td>2</td>\n",
       "      <td>2018-02-01 00:58:28</td>\n",
       "      <td>2018-02-01 01:05:35</td>\n",
       "      <td>N</td>\n",
       "      <td>1</td>\n",
       "      <td>256</td>\n",
       "      <td>80</td>\n",
       "      <td>5</td>\n",
       "      <td>1.60</td>\n",
       "      <td>7.5</td>\n",
       "      <td>0.5</td>\n",
       "      <td>0.5</td>\n",
       "      <td>0.88</td>\n",
       "      <td>0.0</td>\n",
       "      <td>NaN</td>\n",
       "      <td>0.3</td>\n",
       "      <td>9.68</td>\n",
       "      <td>1</td>\n",
       "      <td>1</td>\n",
       "    </tr>\n",
       "    <tr>\n",
       "      <th>2</th>\n",
       "      <td>2</td>\n",
       "      <td>2018-02-01 00:56:05</td>\n",
       "      <td>2018-02-01 01:18:54</td>\n",
       "      <td>N</td>\n",
       "      <td>1</td>\n",
       "      <td>25</td>\n",
       "      <td>95</td>\n",
       "      <td>1</td>\n",
       "      <td>9.60</td>\n",
       "      <td>28.5</td>\n",
       "      <td>0.5</td>\n",
       "      <td>0.5</td>\n",
       "      <td>5.96</td>\n",
       "      <td>0.0</td>\n",
       "      <td>NaN</td>\n",
       "      <td>0.3</td>\n",
       "      <td>35.76</td>\n",
       "      <td>1</td>\n",
       "      <td>1</td>\n",
       "    </tr>\n",
       "    <tr>\n",
       "      <th>3</th>\n",
       "      <td>2</td>\n",
       "      <td>2018-02-01 00:12:40</td>\n",
       "      <td>2018-02-01 00:15:50</td>\n",
       "      <td>N</td>\n",
       "      <td>1</td>\n",
       "      <td>61</td>\n",
       "      <td>61</td>\n",
       "      <td>1</td>\n",
       "      <td>0.73</td>\n",
       "      <td>4.5</td>\n",
       "      <td>0.5</td>\n",
       "      <td>0.5</td>\n",
       "      <td>0.00</td>\n",
       "      <td>0.0</td>\n",
       "      <td>NaN</td>\n",
       "      <td>0.3</td>\n",
       "      <td>5.80</td>\n",
       "      <td>2</td>\n",
       "      <td>1</td>\n",
       "    </tr>\n",
       "    <tr>\n",
       "      <th>4</th>\n",
       "      <td>2</td>\n",
       "      <td>2018-02-01 00:45:18</td>\n",
       "      <td>2018-02-01 00:51:56</td>\n",
       "      <td>N</td>\n",
       "      <td>1</td>\n",
       "      <td>65</td>\n",
       "      <td>17</td>\n",
       "      <td>2</td>\n",
       "      <td>1.87</td>\n",
       "      <td>8.0</td>\n",
       "      <td>0.5</td>\n",
       "      <td>0.5</td>\n",
       "      <td>0.00</td>\n",
       "      <td>0.0</td>\n",
       "      <td>NaN</td>\n",
       "      <td>0.3</td>\n",
       "      <td>9.30</td>\n",
       "      <td>2</td>\n",
       "      <td>1</td>\n",
       "    </tr>\n",
       "    <tr>\n",
       "      <th>5</th>\n",
       "      <td>2</td>\n",
       "      <td>2018-02-01 00:30:57</td>\n",
       "      <td>2018-02-01 00:52:23</td>\n",
       "      <td>N</td>\n",
       "      <td>1</td>\n",
       "      <td>65</td>\n",
       "      <td>68</td>\n",
       "      <td>2</td>\n",
       "      <td>5.69</td>\n",
       "      <td>20.0</td>\n",
       "      <td>0.5</td>\n",
       "      <td>0.5</td>\n",
       "      <td>0.00</td>\n",
       "      <td>0.0</td>\n",
       "      <td>NaN</td>\n",
       "      <td>0.3</td>\n",
       "      <td>21.30</td>\n",
       "      <td>2</td>\n",
       "      <td>1</td>\n",
       "    </tr>\n",
       "    <tr>\n",
       "      <th>6</th>\n",
       "      <td>1</td>\n",
       "      <td>2018-02-01 00:38:24</td>\n",
       "      <td>2018-02-01 00:50:24</td>\n",
       "      <td>N</td>\n",
       "      <td>1</td>\n",
       "      <td>17</td>\n",
       "      <td>35</td>\n",
       "      <td>1</td>\n",
       "      <td>2.90</td>\n",
       "      <td>11.5</td>\n",
       "      <td>0.5</td>\n",
       "      <td>0.5</td>\n",
       "      <td>0.00</td>\n",
       "      <td>0.0</td>\n",
       "      <td>NaN</td>\n",
       "      <td>0.3</td>\n",
       "      <td>12.80</td>\n",
       "      <td>2</td>\n",
       "      <td>1</td>\n",
       "    </tr>\n",
       "    <tr>\n",
       "      <th>7</th>\n",
       "      <td>2</td>\n",
       "      <td>2018-02-01 00:09:15</td>\n",
       "      <td>2018-02-01 00:29:13</td>\n",
       "      <td>N</td>\n",
       "      <td>1</td>\n",
       "      <td>181</td>\n",
       "      <td>226</td>\n",
       "      <td>1</td>\n",
       "      <td>6.77</td>\n",
       "      <td>22.0</td>\n",
       "      <td>0.5</td>\n",
       "      <td>0.5</td>\n",
       "      <td>0.00</td>\n",
       "      <td>0.0</td>\n",
       "      <td>NaN</td>\n",
       "      <td>0.3</td>\n",
       "      <td>23.30</td>\n",
       "      <td>2</td>\n",
       "      <td>1</td>\n",
       "    </tr>\n",
       "    <tr>\n",
       "      <th>8</th>\n",
       "      <td>1</td>\n",
       "      <td>2018-02-01 00:08:51</td>\n",
       "      <td>2018-02-01 00:15:14</td>\n",
       "      <td>N</td>\n",
       "      <td>5</td>\n",
       "      <td>168</td>\n",
       "      <td>168</td>\n",
       "      <td>1</td>\n",
       "      <td>0.80</td>\n",
       "      <td>0.0</td>\n",
       "      <td>0.0</td>\n",
       "      <td>0.0</td>\n",
       "      <td>0.00</td>\n",
       "      <td>0.0</td>\n",
       "      <td>NaN</td>\n",
       "      <td>0.0</td>\n",
       "      <td>0.00</td>\n",
       "      <td>2</td>\n",
       "      <td>2</td>\n",
       "    </tr>\n",
       "    <tr>\n",
       "      <th>9</th>\n",
       "      <td>2</td>\n",
       "      <td>2018-02-01 00:10:14</td>\n",
       "      <td>2018-02-02 00:00:00</td>\n",
       "      <td>N</td>\n",
       "      <td>1</td>\n",
       "      <td>97</td>\n",
       "      <td>7</td>\n",
       "      <td>1</td>\n",
       "      <td>10.03</td>\n",
       "      <td>28.0</td>\n",
       "      <td>0.5</td>\n",
       "      <td>0.5</td>\n",
       "      <td>7.32</td>\n",
       "      <td>0.0</td>\n",
       "      <td>NaN</td>\n",
       "      <td>0.3</td>\n",
       "      <td>36.62</td>\n",
       "      <td>1</td>\n",
       "      <td>1</td>\n",
       "    </tr>\n",
       "  </tbody>\n",
       "</table>\n",
       "</div>"
      ],
      "text/plain": [
       "   VendorID lpep_pickup_datetime lpep_dropoff_datetime store_and_fwd_flag  \\\n",
       "0         2  2018-02-01 00:39:38   2018-02-01 00:39:41                  N   \n",
       "1         2  2018-02-01 00:58:28   2018-02-01 01:05:35                  N   \n",
       "2         2  2018-02-01 00:56:05   2018-02-01 01:18:54                  N   \n",
       "3         2  2018-02-01 00:12:40   2018-02-01 00:15:50                  N   \n",
       "4         2  2018-02-01 00:45:18   2018-02-01 00:51:56                  N   \n",
       "5         2  2018-02-01 00:30:57   2018-02-01 00:52:23                  N   \n",
       "6         1  2018-02-01 00:38:24   2018-02-01 00:50:24                  N   \n",
       "7         2  2018-02-01 00:09:15   2018-02-01 00:29:13                  N   \n",
       "8         1  2018-02-01 00:08:51   2018-02-01 00:15:14                  N   \n",
       "9         2  2018-02-01 00:10:14   2018-02-02 00:00:00                  N   \n",
       "\n",
       "   RatecodeID  PULocationID  DOLocationID  passenger_count  trip_distance  \\\n",
       "0           5            97            65                1           0.00   \n",
       "1           1           256            80                5           1.60   \n",
       "2           1            25            95                1           9.60   \n",
       "3           1            61            61                1           0.73   \n",
       "4           1            65            17                2           1.87   \n",
       "5           1            65            68                2           5.69   \n",
       "6           1            17            35                1           2.90   \n",
       "7           1           181           226                1           6.77   \n",
       "8           5           168           168                1           0.80   \n",
       "9           1            97             7                1          10.03   \n",
       "\n",
       "   fare_amount  extra  mta_tax  tip_amount  tolls_amount  ehail_fee  \\\n",
       "0         20.0    0.0      0.0        3.00           0.0        NaN   \n",
       "1          7.5    0.5      0.5        0.88           0.0        NaN   \n",
       "2         28.5    0.5      0.5        5.96           0.0        NaN   \n",
       "3          4.5    0.5      0.5        0.00           0.0        NaN   \n",
       "4          8.0    0.5      0.5        0.00           0.0        NaN   \n",
       "5         20.0    0.5      0.5        0.00           0.0        NaN   \n",
       "6         11.5    0.5      0.5        0.00           0.0        NaN   \n",
       "7         22.0    0.5      0.5        0.00           0.0        NaN   \n",
       "8          0.0    0.0      0.0        0.00           0.0        NaN   \n",
       "9         28.0    0.5      0.5        7.32           0.0        NaN   \n",
       "\n",
       "   improvement_surcharge  total_amount  payment_type  trip_type  \n",
       "0                    0.0         23.00             1          2  \n",
       "1                    0.3          9.68             1          1  \n",
       "2                    0.3         35.76             1          1  \n",
       "3                    0.3          5.80             2          1  \n",
       "4                    0.3          9.30             2          1  \n",
       "5                    0.3         21.30             2          1  \n",
       "6                    0.3         12.80             2          1  \n",
       "7                    0.3         23.30             2          1  \n",
       "8                    0.0          0.00             2          2  \n",
       "9                    0.3         36.62             1          1  "
      ]
     },
     "execution_count": 3,
     "metadata": {},
     "output_type": "execute_result"
    }
   ],
   "source": [
    "#we can add parameter to function head()\n",
    "\n",
    "taxi_data.head(10)"
   ]
  },
  {
   "cell_type": "code",
   "execution_count": 4,
   "metadata": {},
   "outputs": [
    {
     "data": {
      "text/html": [
       "<div>\n",
       "<style scoped>\n",
       "    .dataframe tbody tr th:only-of-type {\n",
       "        vertical-align: middle;\n",
       "    }\n",
       "\n",
       "    .dataframe tbody tr th {\n",
       "        vertical-align: top;\n",
       "    }\n",
       "\n",
       "    .dataframe thead th {\n",
       "        text-align: right;\n",
       "    }\n",
       "</style>\n",
       "<table border=\"1\" class=\"dataframe\">\n",
       "  <thead>\n",
       "    <tr style=\"text-align: right;\">\n",
       "      <th></th>\n",
       "      <th>VendorID</th>\n",
       "      <th>RatecodeID</th>\n",
       "      <th>PULocationID</th>\n",
       "      <th>DOLocationID</th>\n",
       "      <th>passenger_count</th>\n",
       "      <th>trip_distance</th>\n",
       "      <th>fare_amount</th>\n",
       "      <th>extra</th>\n",
       "      <th>mta_tax</th>\n",
       "      <th>tip_amount</th>\n",
       "      <th>tolls_amount</th>\n",
       "      <th>ehail_fee</th>\n",
       "      <th>improvement_surcharge</th>\n",
       "      <th>total_amount</th>\n",
       "      <th>payment_type</th>\n",
       "      <th>trip_type</th>\n",
       "    </tr>\n",
       "  </thead>\n",
       "  <tbody>\n",
       "    <tr>\n",
       "      <th>count</th>\n",
       "      <td>769940.000000</td>\n",
       "      <td>769940.000000</td>\n",
       "      <td>769940.000000</td>\n",
       "      <td>769940.000000</td>\n",
       "      <td>769940.000000</td>\n",
       "      <td>769940.000000</td>\n",
       "      <td>769940.000000</td>\n",
       "      <td>769940.000000</td>\n",
       "      <td>769940.000000</td>\n",
       "      <td>769940.000000</td>\n",
       "      <td>769940.000000</td>\n",
       "      <td>0.0</td>\n",
       "      <td>769940.000000</td>\n",
       "      <td>769940.000000</td>\n",
       "      <td>769940.000000</td>\n",
       "      <td>769940.000000</td>\n",
       "    </tr>\n",
       "    <tr>\n",
       "      <th>mean</th>\n",
       "      <td>1.829091</td>\n",
       "      <td>1.066778</td>\n",
       "      <td>109.968160</td>\n",
       "      <td>128.311900</td>\n",
       "      <td>1.356391</td>\n",
       "      <td>2.725387</td>\n",
       "      <td>11.882591</td>\n",
       "      <td>0.336679</td>\n",
       "      <td>0.488929</td>\n",
       "      <td>1.040139</td>\n",
       "      <td>0.090295</td>\n",
       "      <td>NaN</td>\n",
       "      <td>0.293621</td>\n",
       "      <td>14.156694</td>\n",
       "      <td>1.462002</td>\n",
       "      <td>1.016383</td>\n",
       "    </tr>\n",
       "    <tr>\n",
       "      <th>std</th>\n",
       "      <td>0.376430</td>\n",
       "      <td>0.504027</td>\n",
       "      <td>74.226968</td>\n",
       "      <td>76.862844</td>\n",
       "      <td>1.033778</td>\n",
       "      <td>2.882936</td>\n",
       "      <td>9.745038</td>\n",
       "      <td>0.395280</td>\n",
       "      <td>0.081043</td>\n",
       "      <td>1.821846</td>\n",
       "      <td>0.777109</td>\n",
       "      <td>NaN</td>\n",
       "      <td>0.047854</td>\n",
       "      <td>10.707214</td>\n",
       "      <td>0.519115</td>\n",
       "      <td>0.126944</td>\n",
       "    </tr>\n",
       "    <tr>\n",
       "      <th>min</th>\n",
       "      <td>1.000000</td>\n",
       "      <td>1.000000</td>\n",
       "      <td>1.000000</td>\n",
       "      <td>1.000000</td>\n",
       "      <td>0.000000</td>\n",
       "      <td>0.000000</td>\n",
       "      <td>-400.000000</td>\n",
       "      <td>-4.500000</td>\n",
       "      <td>-0.500000</td>\n",
       "      <td>-14.190000</td>\n",
       "      <td>0.000000</td>\n",
       "      <td>NaN</td>\n",
       "      <td>-0.300000</td>\n",
       "      <td>-400.000000</td>\n",
       "      <td>1.000000</td>\n",
       "      <td>1.000000</td>\n",
       "    </tr>\n",
       "    <tr>\n",
       "      <th>25%</th>\n",
       "      <td>2.000000</td>\n",
       "      <td>1.000000</td>\n",
       "      <td>49.000000</td>\n",
       "      <td>61.000000</td>\n",
       "      <td>1.000000</td>\n",
       "      <td>1.000000</td>\n",
       "      <td>6.000000</td>\n",
       "      <td>0.000000</td>\n",
       "      <td>0.500000</td>\n",
       "      <td>0.000000</td>\n",
       "      <td>0.000000</td>\n",
       "      <td>NaN</td>\n",
       "      <td>0.300000</td>\n",
       "      <td>7.800000</td>\n",
       "      <td>1.000000</td>\n",
       "      <td>1.000000</td>\n",
       "    </tr>\n",
       "    <tr>\n",
       "      <th>50%</th>\n",
       "      <td>2.000000</td>\n",
       "      <td>1.000000</td>\n",
       "      <td>82.000000</td>\n",
       "      <td>129.000000</td>\n",
       "      <td>1.000000</td>\n",
       "      <td>1.750000</td>\n",
       "      <td>9.000000</td>\n",
       "      <td>0.000000</td>\n",
       "      <td>0.500000</td>\n",
       "      <td>0.000000</td>\n",
       "      <td>0.000000</td>\n",
       "      <td>NaN</td>\n",
       "      <td>0.300000</td>\n",
       "      <td>11.150000</td>\n",
       "      <td>1.000000</td>\n",
       "      <td>1.000000</td>\n",
       "    </tr>\n",
       "    <tr>\n",
       "      <th>75%</th>\n",
       "      <td>2.000000</td>\n",
       "      <td>1.000000</td>\n",
       "      <td>166.000000</td>\n",
       "      <td>189.000000</td>\n",
       "      <td>1.000000</td>\n",
       "      <td>3.370000</td>\n",
       "      <td>14.500000</td>\n",
       "      <td>0.500000</td>\n",
       "      <td>0.500000</td>\n",
       "      <td>1.760000</td>\n",
       "      <td>0.000000</td>\n",
       "      <td>NaN</td>\n",
       "      <td>0.300000</td>\n",
       "      <td>17.000000</td>\n",
       "      <td>2.000000</td>\n",
       "      <td>1.000000</td>\n",
       "    </tr>\n",
       "    <tr>\n",
       "      <th>max</th>\n",
       "      <td>2.000000</td>\n",
       "      <td>6.000000</td>\n",
       "      <td>265.000000</td>\n",
       "      <td>265.000000</td>\n",
       "      <td>9.000000</td>\n",
       "      <td>120.470000</td>\n",
       "      <td>2624.500000</td>\n",
       "      <td>4.500000</td>\n",
       "      <td>0.550000</td>\n",
       "      <td>104.000000</td>\n",
       "      <td>99.990000</td>\n",
       "      <td>NaN</td>\n",
       "      <td>0.300000</td>\n",
       "      <td>2626.300000</td>\n",
       "      <td>5.000000</td>\n",
       "      <td>2.000000</td>\n",
       "    </tr>\n",
       "  </tbody>\n",
       "</table>\n",
       "</div>"
      ],
      "text/plain": [
       "            VendorID     RatecodeID   PULocationID   DOLocationID  \\\n",
       "count  769940.000000  769940.000000  769940.000000  769940.000000   \n",
       "mean        1.829091       1.066778     109.968160     128.311900   \n",
       "std         0.376430       0.504027      74.226968      76.862844   \n",
       "min         1.000000       1.000000       1.000000       1.000000   \n",
       "25%         2.000000       1.000000      49.000000      61.000000   \n",
       "50%         2.000000       1.000000      82.000000     129.000000   \n",
       "75%         2.000000       1.000000     166.000000     189.000000   \n",
       "max         2.000000       6.000000     265.000000     265.000000   \n",
       "\n",
       "       passenger_count  trip_distance    fare_amount          extra  \\\n",
       "count    769940.000000  769940.000000  769940.000000  769940.000000   \n",
       "mean          1.356391       2.725387      11.882591       0.336679   \n",
       "std           1.033778       2.882936       9.745038       0.395280   \n",
       "min           0.000000       0.000000    -400.000000      -4.500000   \n",
       "25%           1.000000       1.000000       6.000000       0.000000   \n",
       "50%           1.000000       1.750000       9.000000       0.000000   \n",
       "75%           1.000000       3.370000      14.500000       0.500000   \n",
       "max           9.000000     120.470000    2624.500000       4.500000   \n",
       "\n",
       "             mta_tax     tip_amount   tolls_amount  ehail_fee  \\\n",
       "count  769940.000000  769940.000000  769940.000000        0.0   \n",
       "mean        0.488929       1.040139       0.090295        NaN   \n",
       "std         0.081043       1.821846       0.777109        NaN   \n",
       "min        -0.500000     -14.190000       0.000000        NaN   \n",
       "25%         0.500000       0.000000       0.000000        NaN   \n",
       "50%         0.500000       0.000000       0.000000        NaN   \n",
       "75%         0.500000       1.760000       0.000000        NaN   \n",
       "max         0.550000     104.000000      99.990000        NaN   \n",
       "\n",
       "       improvement_surcharge   total_amount   payment_type      trip_type  \n",
       "count          769940.000000  769940.000000  769940.000000  769940.000000  \n",
       "mean                0.293621      14.156694       1.462002       1.016383  \n",
       "std                 0.047854      10.707214       0.519115       0.126944  \n",
       "min                -0.300000    -400.000000       1.000000       1.000000  \n",
       "25%                 0.300000       7.800000       1.000000       1.000000  \n",
       "50%                 0.300000      11.150000       1.000000       1.000000  \n",
       "75%                 0.300000      17.000000       2.000000       1.000000  \n",
       "max                 0.300000    2626.300000       5.000000       2.000000  "
      ]
     },
     "execution_count": 4,
     "metadata": {},
     "output_type": "execute_result"
    }
   ],
   "source": [
    "taxi_data.describe()"
   ]
  },
  {
   "cell_type": "code",
   "execution_count": 5,
   "metadata": {},
   "outputs": [
    {
     "name": "stdout",
     "output_type": "stream",
     "text": [
      "0    0.25\n",
      "1    0.50\n",
      "2    0.75\n",
      "3    1.00\n",
      "dtype: float64\n"
     ]
    }
   ],
   "source": [
    "#buiding series by list\n",
    "\n",
    "series_data = pd.Series([0.25, 0.5, 0.75, 1.0])\n",
    "print(series_data)\n"
   ]
  },
  {
   "cell_type": "code",
   "execution_count": 6,
   "metadata": {},
   "outputs": [
    {
     "name": "stdout",
     "output_type": "stream",
     "text": [
      "[0.25 0.5  0.75 1.  ]\n"
     ]
    }
   ],
   "source": [
    "#just want to output the values\n",
    "\n",
    "print(series_data.values)"
   ]
  },
  {
   "cell_type": "code",
   "execution_count": 7,
   "metadata": {},
   "outputs": [
    {
     "name": "stdout",
     "output_type": "stream",
     "text": [
      "0.25\n",
      "1    0.50\n",
      "2    0.75\n",
      "dtype: float64\n"
     ]
    }
   ],
   "source": [
    "#data can be accessed by index, really similar to array\n",
    "\n",
    "print(series_data[0])\n",
    "print(series_data[1:3])"
   ]
  },
  {
   "cell_type": "code",
   "execution_count": 8,
   "metadata": {},
   "outputs": [
    {
     "data": {
      "text/plain": [
       "a    0.25\n",
       "b    0.50\n",
       "c    0.75\n",
       "d    1.00\n",
       "dtype: float64"
      ]
     },
     "execution_count": 8,
     "metadata": {},
     "output_type": "execute_result"
    }
   ],
   "source": [
    "#building series by values and indexes\n",
    "#the function is pd.Series(data, index=index)\n",
    "\n",
    "series_data = pd.Series([0.25, 0.5, 0.75, 1.0],index=['a', 'b', 'c', 'd'])\n",
    "series_data"
   ]
  },
  {
   "cell_type": "code",
   "execution_count": 9,
   "metadata": {},
   "outputs": [
    {
     "data": {
      "text/plain": [
       "0.5"
      ]
     },
     "execution_count": 9,
     "metadata": {},
     "output_type": "execute_result"
    }
   ],
   "source": [
    "#accessing data by index\n",
    "\n",
    "series_data['b']"
   ]
  },
  {
   "cell_type": "code",
   "execution_count": 10,
   "metadata": {},
   "outputs": [
    {
     "name": "stdout",
     "output_type": "stream",
     "text": [
      "a    0.25\n",
      "b    2.00\n",
      "c    0.75\n",
      "d    1.00\n",
      "dtype: float64\n"
     ]
    }
   ],
   "source": [
    "#changing date by index\n",
    "series_data['b'] = 2.0\n",
    "print(series_data)"
   ]
  },
  {
   "cell_type": "code",
   "execution_count": 11,
   "metadata": {},
   "outputs": [
    {
     "data": {
      "text/plain": [
       "b    2.00\n",
       "c    0.75\n",
       "d    1.00\n",
       "dtype: float64"
      ]
     },
     "execution_count": 11,
     "metadata": {},
     "output_type": "execute_result"
    }
   ],
   "source": [
    "#accessing data by indexes\n",
    "\n",
    "series_data['b':'d']"
   ]
  },
  {
   "cell_type": "code",
   "execution_count": 12,
   "metadata": {},
   "outputs": [
    {
     "data": {
      "text/plain": [
       "2    0.25\n",
       "5    0.50\n",
       "3    0.75\n",
       "7    1.00\n",
       "dtype: float64"
      ]
     },
     "execution_count": 12,
     "metadata": {},
     "output_type": "execute_result"
    }
   ],
   "source": [
    "#building series by values and indexes\n",
    "\n",
    "series_data = pd.Series([0.25, 0.5, 0.75, 1.0],index=[2, 5, 3, 7])\n",
    "series_data"
   ]
  },
  {
   "cell_type": "code",
   "execution_count": 13,
   "metadata": {},
   "outputs": [
    {
     "data": {
      "text/plain": [
       "0.75"
      ]
     },
     "execution_count": 13,
     "metadata": {},
     "output_type": "execute_result"
    }
   ],
   "source": [
    "#accessing data by index\n",
    "\n",
    "series_data[3]"
   ]
  },
  {
   "cell_type": "code",
   "execution_count": 14,
   "metadata": {},
   "outputs": [
    {
     "data": {
      "text/plain": [
       "2    0.25\n",
       "5    0.50\n",
       "dtype: float64"
      ]
     },
     "execution_count": 14,
     "metadata": {},
     "output_type": "execute_result"
    }
   ],
   "source": [
    "#accessing data by positions\n",
    "\n",
    "series_data[0:2]"
   ]
  },
  {
   "cell_type": "code",
   "execution_count": 15,
   "metadata": {},
   "outputs": [
    {
     "data": {
      "text/plain": [
       "2    0.25\n",
       "5    0.50\n",
       "3    0.75\n",
       "7    1.00\n",
       "dtype: float64"
      ]
     },
     "execution_count": 15,
     "metadata": {},
     "output_type": "execute_result"
    }
   ],
   "source": [
    "series_data.reset_index()\n",
    "series_data"
   ]
  },
  {
   "cell_type": "code",
   "execution_count": 16,
   "metadata": {},
   "outputs": [
    {
     "data": {
      "text/plain": [
       "California    38332521\n",
       "Texas         26448193\n",
       "New York      19651127\n",
       "Florida       19552860\n",
       "dtype: int64"
      ]
     },
     "execution_count": 16,
     "metadata": {},
     "output_type": "execute_result"
    }
   ],
   "source": [
    "#the structure of series is similar to a dictionary\n",
    "population_dict = {'California': 38332521,'Texas': 26448193, 'New York': 19651127, 'Florida': 19552860}\n",
    "population = pd.Series(population_dict)\n",
    "population"
   ]
  },
  {
   "cell_type": "code",
   "execution_count": 17,
   "metadata": {},
   "outputs": [
    {
     "data": {
      "text/plain": [
       "26448193"
      ]
     },
     "execution_count": 17,
     "metadata": {},
     "output_type": "execute_result"
    }
   ],
   "source": [
    "#accessing value by index\n",
    "population['Texas']"
   ]
  },
  {
   "cell_type": "code",
   "execution_count": 18,
   "metadata": {},
   "outputs": [
    {
     "data": {
      "text/html": [
       "<div>\n",
       "<style scoped>\n",
       "    .dataframe tbody tr th:only-of-type {\n",
       "        vertical-align: middle;\n",
       "    }\n",
       "\n",
       "    .dataframe tbody tr th {\n",
       "        vertical-align: top;\n",
       "    }\n",
       "\n",
       "    .dataframe thead th {\n",
       "        text-align: right;\n",
       "    }\n",
       "</style>\n",
       "<table border=\"1\" class=\"dataframe\">\n",
       "  <thead>\n",
       "    <tr style=\"text-align: right;\">\n",
       "      <th></th>\n",
       "      <th>population</th>\n",
       "    </tr>\n",
       "  </thead>\n",
       "  <tbody>\n",
       "    <tr>\n",
       "      <th>California</th>\n",
       "      <td>38332521</td>\n",
       "    </tr>\n",
       "    <tr>\n",
       "      <th>Texas</th>\n",
       "      <td>26448193</td>\n",
       "    </tr>\n",
       "    <tr>\n",
       "      <th>New York</th>\n",
       "      <td>19651127</td>\n",
       "    </tr>\n",
       "    <tr>\n",
       "      <th>Florida</th>\n",
       "      <td>19552860</td>\n",
       "    </tr>\n",
       "  </tbody>\n",
       "</table>\n",
       "</div>"
      ],
      "text/plain": [
       "            population\n",
       "California    38332521\n",
       "Texas         26448193\n",
       "New York      19651127\n",
       "Florida       19552860"
      ]
     },
     "execution_count": 18,
     "metadata": {},
     "output_type": "execute_result"
    }
   ],
   "source": [
    "#building dataframe\n",
    "population_frame = pd.DataFrame(population, columns=['population'])\n",
    "population_frame"
   ]
  },
  {
   "cell_type": "code",
   "execution_count": 19,
   "metadata": {},
   "outputs": [
    {
     "data": {
      "text/html": [
       "<div>\n",
       "<style scoped>\n",
       "    .dataframe tbody tr th:only-of-type {\n",
       "        vertical-align: middle;\n",
       "    }\n",
       "\n",
       "    .dataframe tbody tr th {\n",
       "        vertical-align: top;\n",
       "    }\n",
       "\n",
       "    .dataframe thead th {\n",
       "        text-align: right;\n",
       "    }\n",
       "</style>\n",
       "<table border=\"1\" class=\"dataframe\">\n",
       "  <thead>\n",
       "    <tr style=\"text-align: right;\">\n",
       "      <th></th>\n",
       "      <th>population</th>\n",
       "    </tr>\n",
       "  </thead>\n",
       "  <tbody>\n",
       "    <tr>\n",
       "      <th>California</th>\n",
       "      <td>38332521</td>\n",
       "    </tr>\n",
       "    <tr>\n",
       "      <th>Texas</th>\n",
       "      <td>26448193</td>\n",
       "    </tr>\n",
       "    <tr>\n",
       "      <th>New York</th>\n",
       "      <td>19651127</td>\n",
       "    </tr>\n",
       "  </tbody>\n",
       "</table>\n",
       "</div>"
      ],
      "text/plain": [
       "            population\n",
       "California    38332521\n",
       "Texas         26448193\n",
       "New York      19651127"
      ]
     },
     "execution_count": 19,
     "metadata": {},
     "output_type": "execute_result"
    }
   ],
   "source": [
    "population_frame.head(3)"
   ]
  },
  {
   "cell_type": "code",
   "execution_count": 20,
   "metadata": {},
   "outputs": [
    {
     "name": "stdout",
     "output_type": "stream",
     "text": [
      "     a  b    c\n",
      "0  1.0  2  NaN\n",
      "1  NaN  3  4.0\n"
     ]
    }
   ],
   "source": [
    "#building dataframe from dictionary, automatically fill missing data\n",
    "df = pd.DataFrame([{'a': 1, 'b': 2}, {'b': 3, 'c': 4}])\n",
    "print(df)"
   ]
  },
  {
   "cell_type": "code",
   "execution_count": 21,
   "metadata": {},
   "outputs": [
    {
     "data": {
      "text/html": [
       "<div>\n",
       "<style scoped>\n",
       "    .dataframe tbody tr th:only-of-type {\n",
       "        vertical-align: middle;\n",
       "    }\n",
       "\n",
       "    .dataframe tbody tr th {\n",
       "        vertical-align: top;\n",
       "    }\n",
       "\n",
       "    .dataframe thead th {\n",
       "        text-align: right;\n",
       "    }\n",
       "</style>\n",
       "<table border=\"1\" class=\"dataframe\">\n",
       "  <thead>\n",
       "    <tr style=\"text-align: right;\">\n",
       "      <th></th>\n",
       "      <th>foo</th>\n",
       "      <th>bar</th>\n",
       "    </tr>\n",
       "  </thead>\n",
       "  <tbody>\n",
       "    <tr>\n",
       "      <th>a</th>\n",
       "      <td>0.179815</td>\n",
       "      <td>0.651763</td>\n",
       "    </tr>\n",
       "    <tr>\n",
       "      <th>b</th>\n",
       "      <td>0.477280</td>\n",
       "      <td>0.718776</td>\n",
       "    </tr>\n",
       "    <tr>\n",
       "      <th>c</th>\n",
       "      <td>0.929284</td>\n",
       "      <td>0.023947</td>\n",
       "    </tr>\n",
       "  </tbody>\n",
       "</table>\n",
       "</div>"
      ],
      "text/plain": [
       "        foo       bar\n",
       "a  0.179815  0.651763\n",
       "b  0.477280  0.718776\n",
       "c  0.929284  0.023947"
      ]
     },
     "execution_count": 21,
     "metadata": {},
     "output_type": "execute_result"
    }
   ],
   "source": [
    "#building dataframe by declareing column names and row names\n",
    "df = pd.DataFrame(np.random.rand(3, 2), columns=['foo', 'bar'], index=['a', 'b', 'c'])\n",
    "df"
   ]
  },
  {
   "cell_type": "code",
   "execution_count": 22,
   "metadata": {},
   "outputs": [
    {
     "data": {
      "text/plain": [
       "a    0.179815\n",
       "b    0.477280\n",
       "c    0.929284\n",
       "Name: foo, dtype: float64"
      ]
     },
     "execution_count": 22,
     "metadata": {},
     "output_type": "execute_result"
    }
   ],
   "source": [
    "#get the column 'foo'\n",
    "df['foo']"
   ]
  },
  {
   "cell_type": "code",
   "execution_count": 23,
   "metadata": {},
   "outputs": [
    {
     "data": {
      "text/plain": [
       "a    0.179815\n",
       "b    0.477280\n",
       "c    0.929284\n",
       "Name: foo, dtype: float64"
      ]
     },
     "execution_count": 23,
     "metadata": {},
     "output_type": "execute_result"
    }
   ],
   "source": [
    "#get the column 'foo'\n",
    "df.foo"
   ]
  },
  {
   "cell_type": "code",
   "execution_count": 24,
   "metadata": {},
   "outputs": [
    {
     "data": {
      "text/html": [
       "<div>\n",
       "<style scoped>\n",
       "    .dataframe tbody tr th:only-of-type {\n",
       "        vertical-align: middle;\n",
       "    }\n",
       "\n",
       "    .dataframe tbody tr th {\n",
       "        vertical-align: top;\n",
       "    }\n",
       "\n",
       "    .dataframe thead th {\n",
       "        text-align: right;\n",
       "    }\n",
       "</style>\n",
       "<table border=\"1\" class=\"dataframe\">\n",
       "  <thead>\n",
       "    <tr style=\"text-align: right;\">\n",
       "      <th></th>\n",
       "      <th>foo</th>\n",
       "      <th>bar</th>\n",
       "      <th>density</th>\n",
       "    </tr>\n",
       "  </thead>\n",
       "  <tbody>\n",
       "    <tr>\n",
       "      <th>a</th>\n",
       "      <td>0.179815</td>\n",
       "      <td>0.651763</td>\n",
       "      <td>0.275890</td>\n",
       "    </tr>\n",
       "    <tr>\n",
       "      <th>b</th>\n",
       "      <td>0.477280</td>\n",
       "      <td>0.718776</td>\n",
       "      <td>0.664017</td>\n",
       "    </tr>\n",
       "    <tr>\n",
       "      <th>c</th>\n",
       "      <td>0.929284</td>\n",
       "      <td>0.023947</td>\n",
       "      <td>38.806169</td>\n",
       "    </tr>\n",
       "  </tbody>\n",
       "</table>\n",
       "</div>"
      ],
      "text/plain": [
       "        foo       bar    density\n",
       "a  0.179815  0.651763   0.275890\n",
       "b  0.477280  0.718776   0.664017\n",
       "c  0.929284  0.023947  38.806169"
      ]
     },
     "execution_count": 24,
     "metadata": {},
     "output_type": "execute_result"
    }
   ],
   "source": [
    "df['density'] = df['foo']/df['bar']\n",
    "df"
   ]
  },
  {
   "cell_type": "code",
   "execution_count": 25,
   "metadata": {},
   "outputs": [
    {
     "data": {
      "text/plain": [
       "0.7187762038443003"
      ]
     },
     "execution_count": 25,
     "metadata": {},
     "output_type": "execute_result"
    }
   ],
   "source": [
    "#iloc, access element by position \n",
    "df.iloc[1,1]"
   ]
  },
  {
   "cell_type": "code",
   "execution_count": 26,
   "metadata": {},
   "outputs": [
    {
     "data": {
      "text/html": [
       "<div>\n",
       "<style scoped>\n",
       "    .dataframe tbody tr th:only-of-type {\n",
       "        vertical-align: middle;\n",
       "    }\n",
       "\n",
       "    .dataframe tbody tr th {\n",
       "        vertical-align: top;\n",
       "    }\n",
       "\n",
       "    .dataframe thead th {\n",
       "        text-align: right;\n",
       "    }\n",
       "</style>\n",
       "<table border=\"1\" class=\"dataframe\">\n",
       "  <thead>\n",
       "    <tr style=\"text-align: right;\">\n",
       "      <th></th>\n",
       "      <th>foo</th>\n",
       "      <th>bar</th>\n",
       "    </tr>\n",
       "  </thead>\n",
       "  <tbody>\n",
       "    <tr>\n",
       "      <th>a</th>\n",
       "      <td>0.179815</td>\n",
       "      <td>0.651763</td>\n",
       "    </tr>\n",
       "    <tr>\n",
       "      <th>b</th>\n",
       "      <td>0.477280</td>\n",
       "      <td>0.718776</td>\n",
       "    </tr>\n",
       "  </tbody>\n",
       "</table>\n",
       "</div>"
      ],
      "text/plain": [
       "        foo       bar\n",
       "a  0.179815  0.651763\n",
       "b  0.477280  0.718776"
      ]
     },
     "execution_count": 26,
     "metadata": {},
     "output_type": "execute_result"
    }
   ],
   "source": [
    "#mutiple rows and columns\n",
    "df.iloc[:2,:2]"
   ]
  },
  {
   "cell_type": "code",
   "execution_count": 27,
   "metadata": {},
   "outputs": [
    {
     "data": {
      "text/html": [
       "<div>\n",
       "<style scoped>\n",
       "    .dataframe tbody tr th:only-of-type {\n",
       "        vertical-align: middle;\n",
       "    }\n",
       "\n",
       "    .dataframe tbody tr th {\n",
       "        vertical-align: top;\n",
       "    }\n",
       "\n",
       "    .dataframe thead th {\n",
       "        text-align: right;\n",
       "    }\n",
       "</style>\n",
       "<table border=\"1\" class=\"dataframe\">\n",
       "  <thead>\n",
       "    <tr style=\"text-align: right;\">\n",
       "      <th></th>\n",
       "      <th>bar</th>\n",
       "      <th>density</th>\n",
       "    </tr>\n",
       "  </thead>\n",
       "  <tbody>\n",
       "    <tr>\n",
       "      <th>b</th>\n",
       "      <td>0.718776</td>\n",
       "      <td>0.664017</td>\n",
       "    </tr>\n",
       "    <tr>\n",
       "      <th>c</th>\n",
       "      <td>0.023947</td>\n",
       "      <td>38.806169</td>\n",
       "    </tr>\n",
       "  </tbody>\n",
       "</table>\n",
       "</div>"
      ],
      "text/plain": [
       "        bar    density\n",
       "b  0.718776   0.664017\n",
       "c  0.023947  38.806169"
      ]
     },
     "execution_count": 27,
     "metadata": {},
     "output_type": "execute_result"
    }
   ],
   "source": [
    "#mutiple rows and columns\n",
    "df.iloc[1:,1:]"
   ]
  },
  {
   "cell_type": "code",
   "execution_count": 28,
   "metadata": {},
   "outputs": [
    {
     "data": {
      "text/plain": [
       "0.17981457962113023"
      ]
     },
     "execution_count": 28,
     "metadata": {},
     "output_type": "execute_result"
    }
   ],
   "source": [
    "#loc, access element by row and column name\n",
    "df.loc['a','foo']"
   ]
  },
  {
   "cell_type": "code",
   "execution_count": 29,
   "metadata": {},
   "outputs": [
    {
     "data": {
      "text/plain": [
       "foo        0.179815\n",
       "bar        0.651763\n",
       "density    0.275890\n",
       "Name: a, dtype: float64"
      ]
     },
     "execution_count": 29,
     "metadata": {},
     "output_type": "execute_result"
    }
   ],
   "source": [
    "#mutiple columns\n",
    "df.loc['a',:'density']"
   ]
  },
  {
   "cell_type": "code",
   "execution_count": 30,
   "metadata": {},
   "outputs": [
    {
     "data": {
      "text/plain": [
       "c    38.806169\n",
       "Name: density, dtype: float64"
      ]
     },
     "execution_count": 30,
     "metadata": {},
     "output_type": "execute_result"
    }
   ],
   "source": [
    "#mutiple rows\n",
    "df.loc[df.foo > 0.5, 'density']"
   ]
  },
  {
   "cell_type": "code",
   "execution_count": 31,
   "metadata": {},
   "outputs": [
    {
     "data": {
      "text/html": [
       "<div>\n",
       "<style scoped>\n",
       "    .dataframe tbody tr th:only-of-type {\n",
       "        vertical-align: middle;\n",
       "    }\n",
       "\n",
       "    .dataframe tbody tr th {\n",
       "        vertical-align: top;\n",
       "    }\n",
       "\n",
       "    .dataframe thead th {\n",
       "        text-align: right;\n",
       "    }\n",
       "</style>\n",
       "<table border=\"1\" class=\"dataframe\">\n",
       "  <thead>\n",
       "    <tr style=\"text-align: right;\">\n",
       "      <th></th>\n",
       "      <th>foo</th>\n",
       "      <th>bar</th>\n",
       "      <th>density</th>\n",
       "    </tr>\n",
       "  </thead>\n",
       "  <tbody>\n",
       "    <tr>\n",
       "      <th>a</th>\n",
       "      <td>0.179815</td>\n",
       "      <td>0.651763</td>\n",
       "      <td>0.275890</td>\n",
       "    </tr>\n",
       "    <tr>\n",
       "      <th>b</th>\n",
       "      <td>0.477280</td>\n",
       "      <td>500.000000</td>\n",
       "      <td>0.664017</td>\n",
       "    </tr>\n",
       "    <tr>\n",
       "      <th>c</th>\n",
       "      <td>0.929284</td>\n",
       "      <td>0.023947</td>\n",
       "      <td>38.806169</td>\n",
       "    </tr>\n",
       "  </tbody>\n",
       "</table>\n",
       "</div>"
      ],
      "text/plain": [
       "        foo         bar    density\n",
       "a  0.179815    0.651763   0.275890\n",
       "b  0.477280  500.000000   0.664017\n",
       "c  0.929284    0.023947  38.806169"
      ]
     },
     "execution_count": 31,
     "metadata": {},
     "output_type": "execute_result"
    }
   ],
   "source": [
    "#changing values by iloc\n",
    "df.iloc[1,1] = 500\n",
    "df"
   ]
  },
  {
   "cell_type": "code",
   "execution_count": 32,
   "metadata": {},
   "outputs": [
    {
     "data": {
      "text/html": [
       "<div>\n",
       "<style scoped>\n",
       "    .dataframe tbody tr th:only-of-type {\n",
       "        vertical-align: middle;\n",
       "    }\n",
       "\n",
       "    .dataframe tbody tr th {\n",
       "        vertical-align: top;\n",
       "    }\n",
       "\n",
       "    .dataframe thead th {\n",
       "        text-align: right;\n",
       "    }\n",
       "</style>\n",
       "<table border=\"1\" class=\"dataframe\">\n",
       "  <thead>\n",
       "    <tr style=\"text-align: right;\">\n",
       "      <th></th>\n",
       "      <th>foo</th>\n",
       "      <th>bar</th>\n",
       "      <th>density</th>\n",
       "    </tr>\n",
       "  </thead>\n",
       "  <tbody>\n",
       "    <tr>\n",
       "      <th>a</th>\n",
       "      <td>0.179815</td>\n",
       "      <td>0.651763</td>\n",
       "      <td>0.275890</td>\n",
       "    </tr>\n",
       "    <tr>\n",
       "      <th>b</th>\n",
       "      <td>0.477280</td>\n",
       "      <td>5.000000</td>\n",
       "      <td>0.664017</td>\n",
       "    </tr>\n",
       "    <tr>\n",
       "      <th>c</th>\n",
       "      <td>0.929284</td>\n",
       "      <td>0.023947</td>\n",
       "      <td>38.806169</td>\n",
       "    </tr>\n",
       "  </tbody>\n",
       "</table>\n",
       "</div>"
      ],
      "text/plain": [
       "        foo       bar    density\n",
       "a  0.179815  0.651763   0.275890\n",
       "b  0.477280  5.000000   0.664017\n",
       "c  0.929284  0.023947  38.806169"
      ]
     },
     "execution_count": 32,
     "metadata": {},
     "output_type": "execute_result"
    }
   ],
   "source": [
    "#changing values by loc\n",
    "df.loc['b','bar'] = 5\n",
    "df"
   ]
  },
  {
   "cell_type": "code",
   "execution_count": 33,
   "metadata": {},
   "outputs": [
    {
     "data": {
      "text/html": [
       "<div>\n",
       "<style scoped>\n",
       "    .dataframe tbody tr th:only-of-type {\n",
       "        vertical-align: middle;\n",
       "    }\n",
       "\n",
       "    .dataframe tbody tr th {\n",
       "        vertical-align: top;\n",
       "    }\n",
       "\n",
       "    .dataframe thead th {\n",
       "        text-align: right;\n",
       "    }\n",
       "</style>\n",
       "<table border=\"1\" class=\"dataframe\">\n",
       "  <thead>\n",
       "    <tr style=\"text-align: right;\">\n",
       "      <th></th>\n",
       "      <th>foo</th>\n",
       "      <th>bar</th>\n",
       "      <th>density</th>\n",
       "    </tr>\n",
       "  </thead>\n",
       "  <tbody>\n",
       "    <tr>\n",
       "      <th>a</th>\n",
       "      <td>0.179815</td>\n",
       "      <td>0.651763</td>\n",
       "      <td>0.275890</td>\n",
       "    </tr>\n",
       "    <tr>\n",
       "      <th>c</th>\n",
       "      <td>0.929284</td>\n",
       "      <td>0.023947</td>\n",
       "      <td>38.806169</td>\n",
       "    </tr>\n",
       "  </tbody>\n",
       "</table>\n",
       "</div>"
      ],
      "text/plain": [
       "        foo       bar    density\n",
       "a  0.179815  0.651763   0.275890\n",
       "c  0.929284  0.023947  38.806169"
      ]
     },
     "execution_count": 33,
     "metadata": {},
     "output_type": "execute_result"
    }
   ],
   "source": [
    "#get lines where bar < 5\n",
    "df[df.bar < 5]"
   ]
  },
  {
   "cell_type": "code",
   "execution_count": 34,
   "metadata": {},
   "outputs": [],
   "source": [
    "#handle taxi data\n",
    "taxi_data = pd.read_csv('./files/green_tripdata_2018-02.csv')"
   ]
  },
  {
   "cell_type": "code",
   "execution_count": 35,
   "metadata": {},
   "outputs": [
    {
     "data": {
      "text/html": [
       "<div>\n",
       "<style scoped>\n",
       "    .dataframe tbody tr th:only-of-type {\n",
       "        vertical-align: middle;\n",
       "    }\n",
       "\n",
       "    .dataframe tbody tr th {\n",
       "        vertical-align: top;\n",
       "    }\n",
       "\n",
       "    .dataframe thead th {\n",
       "        text-align: right;\n",
       "    }\n",
       "</style>\n",
       "<table border=\"1\" class=\"dataframe\">\n",
       "  <thead>\n",
       "    <tr style=\"text-align: right;\">\n",
       "      <th></th>\n",
       "      <th>VendorID</th>\n",
       "      <th>lpep_pickup_datetime</th>\n",
       "      <th>lpep_dropoff_datetime</th>\n",
       "      <th>store_and_fwd_flag</th>\n",
       "      <th>RatecodeID</th>\n",
       "      <th>PULocationID</th>\n",
       "      <th>DOLocationID</th>\n",
       "      <th>passenger_count</th>\n",
       "      <th>trip_distance</th>\n",
       "      <th>fare_amount</th>\n",
       "      <th>extra</th>\n",
       "      <th>mta_tax</th>\n",
       "      <th>tip_amount</th>\n",
       "      <th>tolls_amount</th>\n",
       "      <th>ehail_fee</th>\n",
       "      <th>improvement_surcharge</th>\n",
       "      <th>total_amount</th>\n",
       "      <th>payment_type</th>\n",
       "      <th>trip_type</th>\n",
       "    </tr>\n",
       "  </thead>\n",
       "  <tbody>\n",
       "    <tr>\n",
       "      <th>0</th>\n",
       "      <td>2</td>\n",
       "      <td>2018-02-01 00:39:38</td>\n",
       "      <td>2018-02-01 00:39:41</td>\n",
       "      <td>N</td>\n",
       "      <td>5</td>\n",
       "      <td>97</td>\n",
       "      <td>65</td>\n",
       "      <td>1</td>\n",
       "      <td>0.00</td>\n",
       "      <td>20.0</td>\n",
       "      <td>0.0</td>\n",
       "      <td>0.0</td>\n",
       "      <td>3.00</td>\n",
       "      <td>0.0</td>\n",
       "      <td>NaN</td>\n",
       "      <td>0.0</td>\n",
       "      <td>23.00</td>\n",
       "      <td>1</td>\n",
       "      <td>2</td>\n",
       "    </tr>\n",
       "    <tr>\n",
       "      <th>1</th>\n",
       "      <td>2</td>\n",
       "      <td>2018-02-01 00:58:28</td>\n",
       "      <td>2018-02-01 01:05:35</td>\n",
       "      <td>N</td>\n",
       "      <td>1</td>\n",
       "      <td>256</td>\n",
       "      <td>80</td>\n",
       "      <td>5</td>\n",
       "      <td>1.60</td>\n",
       "      <td>7.5</td>\n",
       "      <td>0.5</td>\n",
       "      <td>0.5</td>\n",
       "      <td>0.88</td>\n",
       "      <td>0.0</td>\n",
       "      <td>NaN</td>\n",
       "      <td>0.3</td>\n",
       "      <td>9.68</td>\n",
       "      <td>1</td>\n",
       "      <td>1</td>\n",
       "    </tr>\n",
       "    <tr>\n",
       "      <th>2</th>\n",
       "      <td>2</td>\n",
       "      <td>2018-02-01 00:56:05</td>\n",
       "      <td>2018-02-01 01:18:54</td>\n",
       "      <td>N</td>\n",
       "      <td>1</td>\n",
       "      <td>25</td>\n",
       "      <td>95</td>\n",
       "      <td>1</td>\n",
       "      <td>9.60</td>\n",
       "      <td>28.5</td>\n",
       "      <td>0.5</td>\n",
       "      <td>0.5</td>\n",
       "      <td>5.96</td>\n",
       "      <td>0.0</td>\n",
       "      <td>NaN</td>\n",
       "      <td>0.3</td>\n",
       "      <td>35.76</td>\n",
       "      <td>1</td>\n",
       "      <td>1</td>\n",
       "    </tr>\n",
       "    <tr>\n",
       "      <th>3</th>\n",
       "      <td>2</td>\n",
       "      <td>2018-02-01 00:12:40</td>\n",
       "      <td>2018-02-01 00:15:50</td>\n",
       "      <td>N</td>\n",
       "      <td>1</td>\n",
       "      <td>61</td>\n",
       "      <td>61</td>\n",
       "      <td>1</td>\n",
       "      <td>0.73</td>\n",
       "      <td>4.5</td>\n",
       "      <td>0.5</td>\n",
       "      <td>0.5</td>\n",
       "      <td>0.00</td>\n",
       "      <td>0.0</td>\n",
       "      <td>NaN</td>\n",
       "      <td>0.3</td>\n",
       "      <td>5.80</td>\n",
       "      <td>2</td>\n",
       "      <td>1</td>\n",
       "    </tr>\n",
       "    <tr>\n",
       "      <th>4</th>\n",
       "      <td>2</td>\n",
       "      <td>2018-02-01 00:45:18</td>\n",
       "      <td>2018-02-01 00:51:56</td>\n",
       "      <td>N</td>\n",
       "      <td>1</td>\n",
       "      <td>65</td>\n",
       "      <td>17</td>\n",
       "      <td>2</td>\n",
       "      <td>1.87</td>\n",
       "      <td>8.0</td>\n",
       "      <td>0.5</td>\n",
       "      <td>0.5</td>\n",
       "      <td>0.00</td>\n",
       "      <td>0.0</td>\n",
       "      <td>NaN</td>\n",
       "      <td>0.3</td>\n",
       "      <td>9.30</td>\n",
       "      <td>2</td>\n",
       "      <td>1</td>\n",
       "    </tr>\n",
       "  </tbody>\n",
       "</table>\n",
       "</div>"
      ],
      "text/plain": [
       "   VendorID lpep_pickup_datetime lpep_dropoff_datetime store_and_fwd_flag  \\\n",
       "0         2  2018-02-01 00:39:38   2018-02-01 00:39:41                  N   \n",
       "1         2  2018-02-01 00:58:28   2018-02-01 01:05:35                  N   \n",
       "2         2  2018-02-01 00:56:05   2018-02-01 01:18:54                  N   \n",
       "3         2  2018-02-01 00:12:40   2018-02-01 00:15:50                  N   \n",
       "4         2  2018-02-01 00:45:18   2018-02-01 00:51:56                  N   \n",
       "\n",
       "   RatecodeID  PULocationID  DOLocationID  passenger_count  trip_distance  \\\n",
       "0           5            97            65                1           0.00   \n",
       "1           1           256            80                5           1.60   \n",
       "2           1            25            95                1           9.60   \n",
       "3           1            61            61                1           0.73   \n",
       "4           1            65            17                2           1.87   \n",
       "\n",
       "   fare_amount  extra  mta_tax  tip_amount  tolls_amount  ehail_fee  \\\n",
       "0         20.0    0.0      0.0        3.00           0.0        NaN   \n",
       "1          7.5    0.5      0.5        0.88           0.0        NaN   \n",
       "2         28.5    0.5      0.5        5.96           0.0        NaN   \n",
       "3          4.5    0.5      0.5        0.00           0.0        NaN   \n",
       "4          8.0    0.5      0.5        0.00           0.0        NaN   \n",
       "\n",
       "   improvement_surcharge  total_amount  payment_type  trip_type  \n",
       "0                    0.0         23.00             1          2  \n",
       "1                    0.3          9.68             1          1  \n",
       "2                    0.3         35.76             1          1  \n",
       "3                    0.3          5.80             2          1  \n",
       "4                    0.3          9.30             2          1  "
      ]
     },
     "execution_count": 35,
     "metadata": {},
     "output_type": "execute_result"
    }
   ],
   "source": [
    "taxi_data.head()"
   ]
  },
  {
   "cell_type": "code",
   "execution_count": 36,
   "metadata": {},
   "outputs": [
    {
     "data": {
      "text/plain": [
       "0"
      ]
     },
     "execution_count": 36,
     "metadata": {},
     "output_type": "execute_result"
    }
   ],
   "source": [
    "#get the total count of missing value in tip_amount\n",
    "sum(taxi_data.tip_amount.isnull())"
   ]
  },
  {
   "cell_type": "code",
   "execution_count": 37,
   "metadata": {},
   "outputs": [],
   "source": [
    "#set a value to missing\n",
    "taxi_data.iloc[0,-3] = np.nan"
   ]
  },
  {
   "cell_type": "code",
   "execution_count": 38,
   "metadata": {},
   "outputs": [
    {
     "data": {
      "text/plain": [
       "0      NaN\n",
       "1     9.68\n",
       "2    35.76\n",
       "3     5.80\n",
       "4     9.30\n",
       "Name: total_amount, dtype: float64"
      ]
     },
     "execution_count": 38,
     "metadata": {},
     "output_type": "execute_result"
    }
   ],
   "source": [
    "taxi_data.total_amount.head()"
   ]
  },
  {
   "cell_type": "code",
   "execution_count": 39,
   "metadata": {},
   "outputs": [
    {
     "ename": "AssertionError",
     "evalue": "",
     "output_type": "error",
     "traceback": [
      "\u001b[1;31m---------------------------------------------------------------------------\u001b[0m",
      "\u001b[1;31mAssertionError\u001b[0m                            Traceback (most recent call last)",
      "\u001b[1;32m<ipython-input-39-efdfcf50e451>\u001b[0m in \u001b[0;36m<module>\u001b[1;34m\u001b[0m\n\u001b[0;32m      1\u001b[0m \u001b[1;31m#get the total count of missing value in tip_amount\u001b[0m\u001b[1;33m\u001b[0m\u001b[1;33m\u001b[0m\u001b[0m\n\u001b[1;32m----> 2\u001b[1;33m \u001b[1;32massert\u001b[0m \u001b[1;36m0\u001b[0m \u001b[1;33m==\u001b[0m \u001b[0msum\u001b[0m\u001b[1;33m(\u001b[0m\u001b[0mtaxi_data\u001b[0m\u001b[1;33m.\u001b[0m\u001b[0mtotal_amount\u001b[0m\u001b[1;33m.\u001b[0m\u001b[0misnull\u001b[0m\u001b[1;33m(\u001b[0m\u001b[1;33m)\u001b[0m\u001b[1;33m)\u001b[0m\u001b[1;33m\u001b[0m\u001b[0m\n\u001b[0m",
      "\u001b[1;31mAssertionError\u001b[0m: "
     ]
    }
   ],
   "source": [
    "#get the total count of missing value in tip_amount\n",
    "assert 0 == sum(taxi_data.total_amount.isnull())"
   ]
  },
  {
   "cell_type": "code",
   "execution_count": 40,
   "metadata": {},
   "outputs": [],
   "source": [
    "#get the total count of missing value in tip_amount\n",
    "assert 1 == sum(taxi_data.total_amount.isnull())"
   ]
  },
  {
   "cell_type": "code",
   "execution_count": 41,
   "metadata": {},
   "outputs": [
    {
     "data": {
      "text/plain": [
       "0     9.68\n",
       "1     9.68\n",
       "2    35.76\n",
       "3     5.80\n",
       "4     9.30\n",
       "Name: total_amount, dtype: float64"
      ]
     },
     "execution_count": 41,
     "metadata": {},
     "output_type": "execute_result"
    }
   ],
   "source": [
    "#dealing with the missing value\n",
    "#fillna\n",
    "taxi_data['total_amount'].fillna(inplace= True,method='bfill')\n",
    "taxi_data.total_amount.head()"
   ]
  },
  {
   "cell_type": "code",
   "execution_count": 42,
   "metadata": {},
   "outputs": [
    {
     "data": {
      "text/plain": [
       "0    14.156682\n",
       "1     9.680000\n",
       "2    35.760000\n",
       "3     5.800000\n",
       "4     9.300000\n",
       "Name: total_amount, dtype: float64"
      ]
     },
     "execution_count": 42,
     "metadata": {},
     "output_type": "execute_result"
    }
   ],
   "source": [
    "#set a value to missing\n",
    "taxi_data.iloc[0,-3] = np.nan\n",
    "\n",
    "taxi_data['total_amount'].fillna(taxi_data['total_amount'].mean() , inplace = True)\n",
    "taxi_data.total_amount.head()"
   ]
  },
  {
   "cell_type": "code",
   "execution_count": 43,
   "metadata": {},
   "outputs": [
    {
     "data": {
      "text/plain": [
       "0    14.156682\n",
       "1    14.156682\n",
       "2    35.760000\n",
       "3     5.800000\n",
       "4     9.300000\n",
       "Name: total_amount, dtype: float64"
      ]
     },
     "execution_count": 43,
     "metadata": {},
     "output_type": "execute_result"
    }
   ],
   "source": [
    "#set a value to missing\n",
    "taxi_data.iloc[1,-3] = np.nan\n",
    "\n",
    "taxi_data['total_amount'].fillna( inplace = True,method='ffill')\n",
    "taxi_data.total_amount.head()"
   ]
  },
  {
   "cell_type": "code",
   "execution_count": 44,
   "metadata": {},
   "outputs": [
    {
     "data": {
      "text/plain": [
       "1.0401385692391616"
      ]
     },
     "execution_count": 44,
     "metadata": {},
     "output_type": "execute_result"
    }
   ],
   "source": [
    "#find the mean of tip_amount\n",
    "taxi_data.tip_amount.mean()"
   ]
  },
  {
   "cell_type": "code",
   "execution_count": 45,
   "metadata": {},
   "outputs": [
    {
     "data": {
      "text/plain": [
       "104.0"
      ]
     },
     "execution_count": 45,
     "metadata": {},
     "output_type": "execute_result"
    }
   ],
   "source": [
    "#find the max of tip_amount\n",
    "taxi_data.tip_amount.max()"
   ]
  },
  {
   "cell_type": "code",
   "execution_count": 46,
   "metadata": {},
   "outputs": [
    {
     "data": {
      "text/plain": [
       "-14.19"
      ]
     },
     "execution_count": 46,
     "metadata": {},
     "output_type": "execute_result"
    }
   ],
   "source": [
    "#find the min of tip_amount\n",
    "taxi_data.tip_amount.min()"
   ]
  },
  {
   "cell_type": "code",
   "execution_count": 47,
   "metadata": {},
   "outputs": [
    {
     "data": {
      "text/plain": [
       "0.0"
      ]
     },
     "execution_count": 47,
     "metadata": {},
     "output_type": "execute_result"
    }
   ],
   "source": [
    "#find the median of tip_amount\n",
    "taxi_data.tip_amount.median()"
   ]
  },
  {
   "cell_type": "code",
   "execution_count": 48,
   "metadata": {},
   "outputs": [
    {
     "data": {
      "text/plain": [
       "count    769940.000000\n",
       "mean          1.040139\n",
       "std           1.821846\n",
       "min         -14.190000\n",
       "25%           0.000000\n",
       "50%           0.000000\n",
       "75%           1.760000\n",
       "max         104.000000\n",
       "Name: tip_amount, dtype: float64"
      ]
     },
     "execution_count": 48,
     "metadata": {},
     "output_type": "execute_result"
    }
   ],
   "source": [
    "#method describe()\n",
    "taxi_data.tip_amount.describe()"
   ]
  },
  {
   "cell_type": "code",
   "execution_count": 49,
   "metadata": {
    "scrolled": true
   },
   "outputs": [
    {
     "data": {
      "text/plain": [
       "0         False\n",
       "1         False\n",
       "2         False\n",
       "3         False\n",
       "4         False\n",
       "5         False\n",
       "6         False\n",
       "7         False\n",
       "8         False\n",
       "9         False\n",
       "10        False\n",
       "11        False\n",
       "12        False\n",
       "13        False\n",
       "14        False\n",
       "15        False\n",
       "16        False\n",
       "17        False\n",
       "18        False\n",
       "19        False\n",
       "20        False\n",
       "21        False\n",
       "22        False\n",
       "23        False\n",
       "24        False\n",
       "25        False\n",
       "26        False\n",
       "27        False\n",
       "28        False\n",
       "29        False\n",
       "          ...  \n",
       "769910    False\n",
       "769911    False\n",
       "769912    False\n",
       "769913    False\n",
       "769914    False\n",
       "769915    False\n",
       "769916    False\n",
       "769917    False\n",
       "769918    False\n",
       "769919    False\n",
       "769920    False\n",
       "769921    False\n",
       "769922    False\n",
       "769923    False\n",
       "769924    False\n",
       "769925    False\n",
       "769926    False\n",
       "769927    False\n",
       "769928    False\n",
       "769929    False\n",
       "769930    False\n",
       "769931    False\n",
       "769932    False\n",
       "769933    False\n",
       "769934    False\n",
       "769935    False\n",
       "769936    False\n",
       "769937    False\n",
       "769938    False\n",
       "769939    False\n",
       "Name: total_amount, Length: 769940, dtype: bool"
      ]
     },
     "execution_count": 49,
     "metadata": {},
     "output_type": "execute_result"
    }
   ],
   "source": [
    "taxi_data.total_amount > 500"
   ]
  },
  {
   "cell_type": "code",
   "execution_count": 50,
   "metadata": {},
   "outputs": [
    {
     "data": {
      "text/html": [
       "<div>\n",
       "<style scoped>\n",
       "    .dataframe tbody tr th:only-of-type {\n",
       "        vertical-align: middle;\n",
       "    }\n",
       "\n",
       "    .dataframe tbody tr th {\n",
       "        vertical-align: top;\n",
       "    }\n",
       "\n",
       "    .dataframe thead th {\n",
       "        text-align: right;\n",
       "    }\n",
       "</style>\n",
       "<table border=\"1\" class=\"dataframe\">\n",
       "  <thead>\n",
       "    <tr style=\"text-align: right;\">\n",
       "      <th></th>\n",
       "      <th>VendorID</th>\n",
       "      <th>lpep_pickup_datetime</th>\n",
       "      <th>lpep_dropoff_datetime</th>\n",
       "      <th>store_and_fwd_flag</th>\n",
       "      <th>RatecodeID</th>\n",
       "      <th>PULocationID</th>\n",
       "      <th>DOLocationID</th>\n",
       "      <th>passenger_count</th>\n",
       "      <th>trip_distance</th>\n",
       "      <th>fare_amount</th>\n",
       "      <th>extra</th>\n",
       "      <th>mta_tax</th>\n",
       "      <th>tip_amount</th>\n",
       "      <th>tolls_amount</th>\n",
       "      <th>ehail_fee</th>\n",
       "      <th>improvement_surcharge</th>\n",
       "      <th>total_amount</th>\n",
       "      <th>payment_type</th>\n",
       "      <th>trip_type</th>\n",
       "    </tr>\n",
       "  </thead>\n",
       "  <tbody>\n",
       "    <tr>\n",
       "      <th>215106</th>\n",
       "      <td>2</td>\n",
       "      <td>2018-02-12 10:09:09</td>\n",
       "      <td>2018-02-12 10:09:09</td>\n",
       "      <td>N</td>\n",
       "      <td>1</td>\n",
       "      <td>193</td>\n",
       "      <td>193</td>\n",
       "      <td>5</td>\n",
       "      <td>0.00</td>\n",
       "      <td>2624.5</td>\n",
       "      <td>1.0</td>\n",
       "      <td>0.5</td>\n",
       "      <td>0.0</td>\n",
       "      <td>0.0</td>\n",
       "      <td>NaN</td>\n",
       "      <td>0.3</td>\n",
       "      <td>2626.3</td>\n",
       "      <td>2</td>\n",
       "      <td>1</td>\n",
       "    </tr>\n",
       "    <tr>\n",
       "      <th>461605</th>\n",
       "      <td>2</td>\n",
       "      <td>2018-02-18 09:01:32</td>\n",
       "      <td>2018-02-18 09:01:32</td>\n",
       "      <td>N</td>\n",
       "      <td>1</td>\n",
       "      <td>247</td>\n",
       "      <td>260</td>\n",
       "      <td>4</td>\n",
       "      <td>13.46</td>\n",
       "      <td>628.0</td>\n",
       "      <td>0.0</td>\n",
       "      <td>0.5</td>\n",
       "      <td>0.0</td>\n",
       "      <td>0.0</td>\n",
       "      <td>NaN</td>\n",
       "      <td>0.3</td>\n",
       "      <td>628.8</td>\n",
       "      <td>2</td>\n",
       "      <td>1</td>\n",
       "    </tr>\n",
       "    <tr>\n",
       "      <th>593052</th>\n",
       "      <td>2</td>\n",
       "      <td>2018-02-23 10:13:51</td>\n",
       "      <td>2018-02-23 10:13:51</td>\n",
       "      <td>N</td>\n",
       "      <td>1</td>\n",
       "      <td>193</td>\n",
       "      <td>193</td>\n",
       "      <td>5</td>\n",
       "      <td>0.00</td>\n",
       "      <td>522.5</td>\n",
       "      <td>1.0</td>\n",
       "      <td>0.5</td>\n",
       "      <td>0.0</td>\n",
       "      <td>0.0</td>\n",
       "      <td>NaN</td>\n",
       "      <td>0.3</td>\n",
       "      <td>524.3</td>\n",
       "      <td>2</td>\n",
       "      <td>1</td>\n",
       "    </tr>\n",
       "  </tbody>\n",
       "</table>\n",
       "</div>"
      ],
      "text/plain": [
       "        VendorID lpep_pickup_datetime lpep_dropoff_datetime  \\\n",
       "215106         2  2018-02-12 10:09:09   2018-02-12 10:09:09   \n",
       "461605         2  2018-02-18 09:01:32   2018-02-18 09:01:32   \n",
       "593052         2  2018-02-23 10:13:51   2018-02-23 10:13:51   \n",
       "\n",
       "       store_and_fwd_flag  RatecodeID  PULocationID  DOLocationID  \\\n",
       "215106                  N           1           193           193   \n",
       "461605                  N           1           247           260   \n",
       "593052                  N           1           193           193   \n",
       "\n",
       "        passenger_count  trip_distance  fare_amount  extra  mta_tax  \\\n",
       "215106                5           0.00       2624.5    1.0      0.5   \n",
       "461605                4          13.46        628.0    0.0      0.5   \n",
       "593052                5           0.00        522.5    1.0      0.5   \n",
       "\n",
       "        tip_amount  tolls_amount  ehail_fee  improvement_surcharge  \\\n",
       "215106         0.0           0.0        NaN                    0.3   \n",
       "461605         0.0           0.0        NaN                    0.3   \n",
       "593052         0.0           0.0        NaN                    0.3   \n",
       "\n",
       "        total_amount  payment_type  trip_type  \n",
       "215106        2626.3             2          1  \n",
       "461605         628.8             2          1  \n",
       "593052         524.3             2          1  "
      ]
     },
     "execution_count": 50,
     "metadata": {},
     "output_type": "execute_result"
    }
   ],
   "source": [
    "#find rows with total_amount > 500\n",
    "taxi_data[taxi_data.total_amount > 500]"
   ]
  },
  {
   "cell_type": "code",
   "execution_count": 51,
   "metadata": {},
   "outputs": [
    {
     "name": "stderr",
     "output_type": "stream",
     "text": [
      "C:\\Users\\18362\\Anaconda2\\envs\\coms007\\lib\\site-packages\\ipykernel_launcher.py:2: UserWarning: Boolean Series key will be reindexed to match DataFrame index.\n",
      "  \n"
     ]
    },
    {
     "data": {
      "text/html": [
       "<div>\n",
       "<style scoped>\n",
       "    .dataframe tbody tr th:only-of-type {\n",
       "        vertical-align: middle;\n",
       "    }\n",
       "\n",
       "    .dataframe tbody tr th {\n",
       "        vertical-align: top;\n",
       "    }\n",
       "\n",
       "    .dataframe thead th {\n",
       "        text-align: right;\n",
       "    }\n",
       "</style>\n",
       "<table border=\"1\" class=\"dataframe\">\n",
       "  <thead>\n",
       "    <tr style=\"text-align: right;\">\n",
       "      <th></th>\n",
       "      <th>VendorID</th>\n",
       "      <th>lpep_pickup_datetime</th>\n",
       "      <th>lpep_dropoff_datetime</th>\n",
       "      <th>store_and_fwd_flag</th>\n",
       "      <th>RatecodeID</th>\n",
       "      <th>PULocationID</th>\n",
       "      <th>DOLocationID</th>\n",
       "      <th>passenger_count</th>\n",
       "      <th>trip_distance</th>\n",
       "      <th>fare_amount</th>\n",
       "      <th>extra</th>\n",
       "      <th>mta_tax</th>\n",
       "      <th>tip_amount</th>\n",
       "      <th>tolls_amount</th>\n",
       "      <th>ehail_fee</th>\n",
       "      <th>improvement_surcharge</th>\n",
       "      <th>total_amount</th>\n",
       "      <th>payment_type</th>\n",
       "      <th>trip_type</th>\n",
       "    </tr>\n",
       "  </thead>\n",
       "  <tbody>\n",
       "    <tr>\n",
       "      <th>215106</th>\n",
       "      <td>2</td>\n",
       "      <td>2018-02-12 10:09:09</td>\n",
       "      <td>2018-02-12 10:09:09</td>\n",
       "      <td>N</td>\n",
       "      <td>1</td>\n",
       "      <td>193</td>\n",
       "      <td>193</td>\n",
       "      <td>5</td>\n",
       "      <td>0.0</td>\n",
       "      <td>2624.5</td>\n",
       "      <td>1.0</td>\n",
       "      <td>0.5</td>\n",
       "      <td>0.0</td>\n",
       "      <td>0.0</td>\n",
       "      <td>NaN</td>\n",
       "      <td>0.3</td>\n",
       "      <td>2626.3</td>\n",
       "      <td>2</td>\n",
       "      <td>1</td>\n",
       "    </tr>\n",
       "    <tr>\n",
       "      <th>593052</th>\n",
       "      <td>2</td>\n",
       "      <td>2018-02-23 10:13:51</td>\n",
       "      <td>2018-02-23 10:13:51</td>\n",
       "      <td>N</td>\n",
       "      <td>1</td>\n",
       "      <td>193</td>\n",
       "      <td>193</td>\n",
       "      <td>5</td>\n",
       "      <td>0.0</td>\n",
       "      <td>522.5</td>\n",
       "      <td>1.0</td>\n",
       "      <td>0.5</td>\n",
       "      <td>0.0</td>\n",
       "      <td>0.0</td>\n",
       "      <td>NaN</td>\n",
       "      <td>0.3</td>\n",
       "      <td>524.3</td>\n",
       "      <td>2</td>\n",
       "      <td>1</td>\n",
       "    </tr>\n",
       "  </tbody>\n",
       "</table>\n",
       "</div>"
      ],
      "text/plain": [
       "        VendorID lpep_pickup_datetime lpep_dropoff_datetime  \\\n",
       "215106         2  2018-02-12 10:09:09   2018-02-12 10:09:09   \n",
       "593052         2  2018-02-23 10:13:51   2018-02-23 10:13:51   \n",
       "\n",
       "       store_and_fwd_flag  RatecodeID  PULocationID  DOLocationID  \\\n",
       "215106                  N           1           193           193   \n",
       "593052                  N           1           193           193   \n",
       "\n",
       "        passenger_count  trip_distance  fare_amount  extra  mta_tax  \\\n",
       "215106                5            0.0       2624.5    1.0      0.5   \n",
       "593052                5            0.0        522.5    1.0      0.5   \n",
       "\n",
       "        tip_amount  tolls_amount  ehail_fee  improvement_surcharge  \\\n",
       "215106         0.0           0.0        NaN                    0.3   \n",
       "593052         0.0           0.0        NaN                    0.3   \n",
       "\n",
       "        total_amount  payment_type  trip_type  \n",
       "215106        2626.3             2          1  \n",
       "593052         524.3             2          1  "
      ]
     },
     "execution_count": 51,
     "metadata": {},
     "output_type": "execute_result"
    }
   ],
   "source": [
    "#find rows with total_amount > 500 and passenger_count > 4\n",
    "taxi_data[taxi_data.total_amount > 500][taxi_data.passenger_count >4]"
   ]
  },
  {
   "cell_type": "code",
   "execution_count": 52,
   "metadata": {},
   "outputs": [
    {
     "data": {
      "text/plain": [
       "0         3.00\n",
       "1         0.88\n",
       "2         5.96\n",
       "3         0.00\n",
       "4         0.00\n",
       "5         0.00\n",
       "6         0.00\n",
       "7         0.00\n",
       "8         0.00\n",
       "9         7.32\n",
       "10        4.06\n",
       "11        0.00\n",
       "12        0.00\n",
       "13        8.55\n",
       "14        0.00\n",
       "15        0.00\n",
       "16        0.00\n",
       "17        2.04\n",
       "18        1.26\n",
       "19        4.76\n",
       "20        0.00\n",
       "21        0.00\n",
       "22        0.00\n",
       "23        0.00\n",
       "24        0.00\n",
       "25        0.00\n",
       "26        2.08\n",
       "27        1.80\n",
       "28        0.00\n",
       "29        1.75\n",
       "          ... \n",
       "769910    0.00\n",
       "769911    0.00\n",
       "769912    1.36\n",
       "769913    1.06\n",
       "769914    1.45\n",
       "769915    3.26\n",
       "769916    0.00\n",
       "769917    0.00\n",
       "769918    0.00\n",
       "769919    0.00\n",
       "769920    0.00\n",
       "769921    1.16\n",
       "769922    1.16\n",
       "769923    0.01\n",
       "769924    0.00\n",
       "769925    5.82\n",
       "769926    0.00\n",
       "769927    0.00\n",
       "769928    1.66\n",
       "769929    1.46\n",
       "769930    0.00\n",
       "769931    0.00\n",
       "769932    0.00\n",
       "769933    0.00\n",
       "769934    1.00\n",
       "769935    0.00\n",
       "769936    2.00\n",
       "769937    1.00\n",
       "769938    2.00\n",
       "769939    3.39\n",
       "Name: tip_amount, Length: 769940, dtype: float64"
      ]
     },
     "execution_count": 52,
     "metadata": {},
     "output_type": "execute_result"
    }
   ],
   "source": [
    "#get one column tip_amount\n",
    "taxi_data['tip_amount']"
   ]
  },
  {
   "cell_type": "code",
   "execution_count": 53,
   "metadata": {},
   "outputs": [
    {
     "data": {
      "text/html": [
       "<div>\n",
       "<style scoped>\n",
       "    .dataframe tbody tr th:only-of-type {\n",
       "        vertical-align: middle;\n",
       "    }\n",
       "\n",
       "    .dataframe tbody tr th {\n",
       "        vertical-align: top;\n",
       "    }\n",
       "\n",
       "    .dataframe thead th {\n",
       "        text-align: right;\n",
       "    }\n",
       "</style>\n",
       "<table border=\"1\" class=\"dataframe\">\n",
       "  <thead>\n",
       "    <tr style=\"text-align: right;\">\n",
       "      <th></th>\n",
       "      <th>tip_amount</th>\n",
       "      <th>total_amount</th>\n",
       "    </tr>\n",
       "  </thead>\n",
       "  <tbody>\n",
       "    <tr>\n",
       "      <th>0</th>\n",
       "      <td>3.00</td>\n",
       "      <td>14.156682</td>\n",
       "    </tr>\n",
       "    <tr>\n",
       "      <th>1</th>\n",
       "      <td>0.88</td>\n",
       "      <td>14.156682</td>\n",
       "    </tr>\n",
       "    <tr>\n",
       "      <th>2</th>\n",
       "      <td>5.96</td>\n",
       "      <td>35.760000</td>\n",
       "    </tr>\n",
       "    <tr>\n",
       "      <th>3</th>\n",
       "      <td>0.00</td>\n",
       "      <td>5.800000</td>\n",
       "    </tr>\n",
       "    <tr>\n",
       "      <th>4</th>\n",
       "      <td>0.00</td>\n",
       "      <td>9.300000</td>\n",
       "    </tr>\n",
       "    <tr>\n",
       "      <th>5</th>\n",
       "      <td>0.00</td>\n",
       "      <td>21.300000</td>\n",
       "    </tr>\n",
       "    <tr>\n",
       "      <th>6</th>\n",
       "      <td>0.00</td>\n",
       "      <td>12.800000</td>\n",
       "    </tr>\n",
       "    <tr>\n",
       "      <th>7</th>\n",
       "      <td>0.00</td>\n",
       "      <td>23.300000</td>\n",
       "    </tr>\n",
       "    <tr>\n",
       "      <th>8</th>\n",
       "      <td>0.00</td>\n",
       "      <td>0.000000</td>\n",
       "    </tr>\n",
       "    <tr>\n",
       "      <th>9</th>\n",
       "      <td>7.32</td>\n",
       "      <td>36.620000</td>\n",
       "    </tr>\n",
       "    <tr>\n",
       "      <th>10</th>\n",
       "      <td>4.06</td>\n",
       "      <td>24.360000</td>\n",
       "    </tr>\n",
       "    <tr>\n",
       "      <th>11</th>\n",
       "      <td>0.00</td>\n",
       "      <td>26.300000</td>\n",
       "    </tr>\n",
       "    <tr>\n",
       "      <th>12</th>\n",
       "      <td>0.00</td>\n",
       "      <td>7.800000</td>\n",
       "    </tr>\n",
       "    <tr>\n",
       "      <th>13</th>\n",
       "      <td>8.55</td>\n",
       "      <td>51.350000</td>\n",
       "    </tr>\n",
       "    <tr>\n",
       "      <th>14</th>\n",
       "      <td>0.00</td>\n",
       "      <td>6.800000</td>\n",
       "    </tr>\n",
       "    <tr>\n",
       "      <th>15</th>\n",
       "      <td>0.00</td>\n",
       "      <td>6.300000</td>\n",
       "    </tr>\n",
       "    <tr>\n",
       "      <th>16</th>\n",
       "      <td>0.00</td>\n",
       "      <td>5.300000</td>\n",
       "    </tr>\n",
       "    <tr>\n",
       "      <th>17</th>\n",
       "      <td>2.04</td>\n",
       "      <td>8.840000</td>\n",
       "    </tr>\n",
       "    <tr>\n",
       "      <th>18</th>\n",
       "      <td>1.26</td>\n",
       "      <td>7.560000</td>\n",
       "    </tr>\n",
       "    <tr>\n",
       "      <th>19</th>\n",
       "      <td>4.76</td>\n",
       "      <td>28.560000</td>\n",
       "    </tr>\n",
       "    <tr>\n",
       "      <th>20</th>\n",
       "      <td>0.00</td>\n",
       "      <td>5.800000</td>\n",
       "    </tr>\n",
       "    <tr>\n",
       "      <th>21</th>\n",
       "      <td>0.00</td>\n",
       "      <td>9.800000</td>\n",
       "    </tr>\n",
       "    <tr>\n",
       "      <th>22</th>\n",
       "      <td>0.00</td>\n",
       "      <td>10.300000</td>\n",
       "    </tr>\n",
       "    <tr>\n",
       "      <th>23</th>\n",
       "      <td>0.00</td>\n",
       "      <td>18.800000</td>\n",
       "    </tr>\n",
       "    <tr>\n",
       "      <th>24</th>\n",
       "      <td>0.00</td>\n",
       "      <td>8.300000</td>\n",
       "    </tr>\n",
       "    <tr>\n",
       "      <th>25</th>\n",
       "      <td>0.00</td>\n",
       "      <td>35.000000</td>\n",
       "    </tr>\n",
       "    <tr>\n",
       "      <th>26</th>\n",
       "      <td>2.08</td>\n",
       "      <td>10.380000</td>\n",
       "    </tr>\n",
       "    <tr>\n",
       "      <th>27</th>\n",
       "      <td>1.80</td>\n",
       "      <td>9.100000</td>\n",
       "    </tr>\n",
       "    <tr>\n",
       "      <th>28</th>\n",
       "      <td>0.00</td>\n",
       "      <td>11.300000</td>\n",
       "    </tr>\n",
       "    <tr>\n",
       "      <th>29</th>\n",
       "      <td>1.75</td>\n",
       "      <td>10.550000</td>\n",
       "    </tr>\n",
       "    <tr>\n",
       "      <th>...</th>\n",
       "      <td>...</td>\n",
       "      <td>...</td>\n",
       "    </tr>\n",
       "    <tr>\n",
       "      <th>769910</th>\n",
       "      <td>0.00</td>\n",
       "      <td>10.800000</td>\n",
       "    </tr>\n",
       "    <tr>\n",
       "      <th>769911</th>\n",
       "      <td>0.00</td>\n",
       "      <td>8.800000</td>\n",
       "    </tr>\n",
       "    <tr>\n",
       "      <th>769912</th>\n",
       "      <td>1.36</td>\n",
       "      <td>8.160000</td>\n",
       "    </tr>\n",
       "    <tr>\n",
       "      <th>769913</th>\n",
       "      <td>1.06</td>\n",
       "      <td>6.360000</td>\n",
       "    </tr>\n",
       "    <tr>\n",
       "      <th>769914</th>\n",
       "      <td>1.45</td>\n",
       "      <td>7.250000</td>\n",
       "    </tr>\n",
       "    <tr>\n",
       "      <th>769915</th>\n",
       "      <td>3.26</td>\n",
       "      <td>19.560000</td>\n",
       "    </tr>\n",
       "    <tr>\n",
       "      <th>769916</th>\n",
       "      <td>0.00</td>\n",
       "      <td>7.300000</td>\n",
       "    </tr>\n",
       "    <tr>\n",
       "      <th>769917</th>\n",
       "      <td>0.00</td>\n",
       "      <td>6.800000</td>\n",
       "    </tr>\n",
       "    <tr>\n",
       "      <th>769918</th>\n",
       "      <td>0.00</td>\n",
       "      <td>11.300000</td>\n",
       "    </tr>\n",
       "    <tr>\n",
       "      <th>769919</th>\n",
       "      <td>0.00</td>\n",
       "      <td>5.800000</td>\n",
       "    </tr>\n",
       "    <tr>\n",
       "      <th>769920</th>\n",
       "      <td>0.00</td>\n",
       "      <td>4.800000</td>\n",
       "    </tr>\n",
       "    <tr>\n",
       "      <th>769921</th>\n",
       "      <td>1.16</td>\n",
       "      <td>6.960000</td>\n",
       "    </tr>\n",
       "    <tr>\n",
       "      <th>769922</th>\n",
       "      <td>1.16</td>\n",
       "      <td>6.960000</td>\n",
       "    </tr>\n",
       "    <tr>\n",
       "      <th>769923</th>\n",
       "      <td>0.01</td>\n",
       "      <td>10.810000</td>\n",
       "    </tr>\n",
       "    <tr>\n",
       "      <th>769924</th>\n",
       "      <td>0.00</td>\n",
       "      <td>15.300000</td>\n",
       "    </tr>\n",
       "    <tr>\n",
       "      <th>769925</th>\n",
       "      <td>5.82</td>\n",
       "      <td>29.120000</td>\n",
       "    </tr>\n",
       "    <tr>\n",
       "      <th>769926</th>\n",
       "      <td>0.00</td>\n",
       "      <td>7.300000</td>\n",
       "    </tr>\n",
       "    <tr>\n",
       "      <th>769927</th>\n",
       "      <td>0.00</td>\n",
       "      <td>10.800000</td>\n",
       "    </tr>\n",
       "    <tr>\n",
       "      <th>769928</th>\n",
       "      <td>1.66</td>\n",
       "      <td>9.960000</td>\n",
       "    </tr>\n",
       "    <tr>\n",
       "      <th>769929</th>\n",
       "      <td>1.46</td>\n",
       "      <td>8.760000</td>\n",
       "    </tr>\n",
       "    <tr>\n",
       "      <th>769930</th>\n",
       "      <td>0.00</td>\n",
       "      <td>6.300000</td>\n",
       "    </tr>\n",
       "    <tr>\n",
       "      <th>769931</th>\n",
       "      <td>0.00</td>\n",
       "      <td>6.300000</td>\n",
       "    </tr>\n",
       "    <tr>\n",
       "      <th>769932</th>\n",
       "      <td>0.00</td>\n",
       "      <td>22.800000</td>\n",
       "    </tr>\n",
       "    <tr>\n",
       "      <th>769933</th>\n",
       "      <td>0.00</td>\n",
       "      <td>12.800000</td>\n",
       "    </tr>\n",
       "    <tr>\n",
       "      <th>769934</th>\n",
       "      <td>1.00</td>\n",
       "      <td>9.800000</td>\n",
       "    </tr>\n",
       "    <tr>\n",
       "      <th>769935</th>\n",
       "      <td>0.00</td>\n",
       "      <td>6.300000</td>\n",
       "    </tr>\n",
       "    <tr>\n",
       "      <th>769936</th>\n",
       "      <td>2.00</td>\n",
       "      <td>17.300000</td>\n",
       "    </tr>\n",
       "    <tr>\n",
       "      <th>769937</th>\n",
       "      <td>1.00</td>\n",
       "      <td>20.300000</td>\n",
       "    </tr>\n",
       "    <tr>\n",
       "      <th>769938</th>\n",
       "      <td>2.00</td>\n",
       "      <td>7.800000</td>\n",
       "    </tr>\n",
       "    <tr>\n",
       "      <th>769939</th>\n",
       "      <td>3.39</td>\n",
       "      <td>14.690000</td>\n",
       "    </tr>\n",
       "  </tbody>\n",
       "</table>\n",
       "<p>769940 rows × 2 columns</p>\n",
       "</div>"
      ],
      "text/plain": [
       "        tip_amount  total_amount\n",
       "0             3.00     14.156682\n",
       "1             0.88     14.156682\n",
       "2             5.96     35.760000\n",
       "3             0.00      5.800000\n",
       "4             0.00      9.300000\n",
       "5             0.00     21.300000\n",
       "6             0.00     12.800000\n",
       "7             0.00     23.300000\n",
       "8             0.00      0.000000\n",
       "9             7.32     36.620000\n",
       "10            4.06     24.360000\n",
       "11            0.00     26.300000\n",
       "12            0.00      7.800000\n",
       "13            8.55     51.350000\n",
       "14            0.00      6.800000\n",
       "15            0.00      6.300000\n",
       "16            0.00      5.300000\n",
       "17            2.04      8.840000\n",
       "18            1.26      7.560000\n",
       "19            4.76     28.560000\n",
       "20            0.00      5.800000\n",
       "21            0.00      9.800000\n",
       "22            0.00     10.300000\n",
       "23            0.00     18.800000\n",
       "24            0.00      8.300000\n",
       "25            0.00     35.000000\n",
       "26            2.08     10.380000\n",
       "27            1.80      9.100000\n",
       "28            0.00     11.300000\n",
       "29            1.75     10.550000\n",
       "...            ...           ...\n",
       "769910        0.00     10.800000\n",
       "769911        0.00      8.800000\n",
       "769912        1.36      8.160000\n",
       "769913        1.06      6.360000\n",
       "769914        1.45      7.250000\n",
       "769915        3.26     19.560000\n",
       "769916        0.00      7.300000\n",
       "769917        0.00      6.800000\n",
       "769918        0.00     11.300000\n",
       "769919        0.00      5.800000\n",
       "769920        0.00      4.800000\n",
       "769921        1.16      6.960000\n",
       "769922        1.16      6.960000\n",
       "769923        0.01     10.810000\n",
       "769924        0.00     15.300000\n",
       "769925        5.82     29.120000\n",
       "769926        0.00      7.300000\n",
       "769927        0.00     10.800000\n",
       "769928        1.66      9.960000\n",
       "769929        1.46      8.760000\n",
       "769930        0.00      6.300000\n",
       "769931        0.00      6.300000\n",
       "769932        0.00     22.800000\n",
       "769933        0.00     12.800000\n",
       "769934        1.00      9.800000\n",
       "769935        0.00      6.300000\n",
       "769936        2.00     17.300000\n",
       "769937        1.00     20.300000\n",
       "769938        2.00      7.800000\n",
       "769939        3.39     14.690000\n",
       "\n",
       "[769940 rows x 2 columns]"
      ]
     },
     "execution_count": 53,
     "metadata": {},
     "output_type": "execute_result"
    }
   ],
   "source": [
    "#get multiple columns, tip_amount and total_amount\n",
    "taxi_data[['tip_amount','total_amount']]"
   ]
  },
  {
   "cell_type": "code",
   "execution_count": 54,
   "metadata": {},
   "outputs": [
    {
     "data": {
      "text/html": [
       "<div>\n",
       "<style scoped>\n",
       "    .dataframe tbody tr th:only-of-type {\n",
       "        vertical-align: middle;\n",
       "    }\n",
       "\n",
       "    .dataframe tbody tr th {\n",
       "        vertical-align: top;\n",
       "    }\n",
       "\n",
       "    .dataframe thead th {\n",
       "        text-align: right;\n",
       "    }\n",
       "</style>\n",
       "<table border=\"1\" class=\"dataframe\">\n",
       "  <thead>\n",
       "    <tr style=\"text-align: right;\">\n",
       "      <th></th>\n",
       "      <th>tip_amount</th>\n",
       "      <th>total_amount</th>\n",
       "    </tr>\n",
       "  </thead>\n",
       "  <tbody>\n",
       "    <tr>\n",
       "      <th>1</th>\n",
       "      <td>0.88</td>\n",
       "      <td>14.156682</td>\n",
       "    </tr>\n",
       "    <tr>\n",
       "      <th>2</th>\n",
       "      <td>5.96</td>\n",
       "      <td>35.760000</td>\n",
       "    </tr>\n",
       "  </tbody>\n",
       "</table>\n",
       "</div>"
      ],
      "text/plain": [
       "   tip_amount  total_amount\n",
       "1        0.88     14.156682\n",
       "2        5.96     35.760000"
      ]
     },
     "execution_count": 54,
     "metadata": {},
     "output_type": "execute_result"
    }
   ],
   "source": [
    "#using loc to get specific rows and columns\n",
    "taxi_data.loc[[1,2],['tip_amount','total_amount']]"
   ]
  },
  {
   "cell_type": "raw",
   "metadata": {},
   "source": [
    "Reference:\n",
    "    Python data science handbook, Jake VanderPlas,first edition, pp.97-124"
   ]
  },
  {
   "cell_type": "code",
   "execution_count": null,
   "metadata": {},
   "outputs": [],
   "source": []
  }
 ],
 "metadata": {
  "kernelspec": {
   "display_name": "coms007",
   "language": "python",
   "name": "coms007"
  },
  "language_info": {
   "codemirror_mode": {
    "name": "ipython",
    "version": 3
   },
   "file_extension": ".py",
   "mimetype": "text/x-python",
   "name": "python",
   "nbconvert_exporter": "python",
   "pygments_lexer": "ipython3",
   "version": "3.6.5"
  }
 },
 "nbformat": 4,
 "nbformat_minor": 2
}
