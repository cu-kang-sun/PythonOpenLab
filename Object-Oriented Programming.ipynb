{
 "cells": [
  {
   "cell_type": "code",
   "execution_count": 22,
   "metadata": {},
   "outputs": [],
   "source": [
    "class Person:\n",
    "    age = 20\n",
    "    def birthday(self):\n",
    "        self.age = self.age + 1\n",
    "        \n"
   ]
  },
  {
   "cell_type": "code",
   "execution_count": 23,
   "metadata": {},
   "outputs": [
    {
     "name": "stdout",
     "output_type": "stream",
     "text": [
      "20\n"
     ]
    }
   ],
   "source": [
    "liming = Person()\n",
    "print(liming.age)"
   ]
  },
  {
   "cell_type": "code",
   "execution_count": 24,
   "metadata": {},
   "outputs": [
    {
     "name": "stdout",
     "output_type": "stream",
     "text": [
      "21\n"
     ]
    }
   ],
   "source": [
    "liming.birthday()\n",
    "print(liming.age)"
   ]
  },
  {
   "cell_type": "code",
   "execution_count": 25,
   "metadata": {},
   "outputs": [],
   "source": [
    "class Person:\n",
    "    age = 0 # we will change it \n",
    "    last_name = None\n",
    "    first_name = None\n",
    "    def __init__ (self, age):\n",
    "        self.age = age\n",
    "    def birthday(self):\n",
    "        self.age = self.age + 1\n",
    "        print(self.age)\n"
   ]
  },
  {
   "cell_type": "code",
   "execution_count": 26,
   "metadata": {},
   "outputs": [
    {
     "name": "stdout",
     "output_type": "stream",
     "text": [
      "21\n"
     ]
    }
   ],
   "source": [
    "James = Person(20)\n",
    "James.birthday()"
   ]
  },
  {
   "cell_type": "code",
   "execution_count": 8,
   "metadata": {},
   "outputs": [],
   "source": [
    "class Person:\n",
    "    age = 0 # we will change it \n",
    "    last_name = None\n",
    "    first_name = None\n",
    "    def __init__(self, age, last, first):\n",
    "        self.age = age\n",
    "        self.last_name = last\n",
    "        self.first_name = first\n",
    "    def birthday(self):\n",
    "        self.age = self.age + 1\n",
    "        print(self.age)\n",
    "    def showName(self):\n",
    "        name = self.last_name + \", \" + self.first_name\n",
    "        print(name)\n"
   ]
  },
  {
   "cell_type": "code",
   "execution_count": 9,
   "metadata": {},
   "outputs": [
    {
     "name": "stdout",
     "output_type": "stream",
     "text": [
      "21\n",
      "James, Michael\n"
     ]
    }
   ],
   "source": [
    "James = Person(20, \"James\", \"Michael\")\n",
    "James.birthday()\n",
    "James.showName()"
   ]
  },
  {
   "cell_type": "code",
   "execution_count": 14,
   "metadata": {},
   "outputs": [],
   "source": [
    "class ClassRoom:\n",
    "    teacher = None\n",
    "    studentList = []\n",
    "    classRoomName = \"\"\n",
    "    def __init__(self, name):\n",
    "        self.classRoomName = name #\"DSSC207\"\n",
    "        \n",
    "    def addTeacher(self, teacher):\n",
    "        self.teacher = teacher\n",
    "    def addStudent(self, student):\n",
    "        self.studentList.append(student)\n",
    "    def showTeacher(self):\n",
    "        print(self.teacher.last_name)\n",
    "    def showStudents(self):\n",
    "        for student in self.studentList:\n",
    "            print(student.last_name)\n",
    "    def showRoomName(self):\n",
    "        print(self.classRoomName)\n",
    "    "
   ]
  },
  {
   "cell_type": "code",
   "execution_count": 15,
   "metadata": {},
   "outputs": [
    {
     "name": "stdout",
     "output_type": "stream",
     "text": [
      "DSSC207\n"
     ]
    }
   ],
   "source": [
    "room = ClassRoom(\"DSSC207\")\n",
    "room.showRoomName()"
   ]
  },
  {
   "cell_type": "code",
   "execution_count": 16,
   "metadata": {},
   "outputs": [
    {
     "name": "stdout",
     "output_type": "stream",
     "text": [
      "Michael\n"
     ]
    }
   ],
   "source": [
    "Michael = Person(20,\"Michael\",\"Su\")\n",
    "room.addTeacher(Michael)\n",
    "room.showTeacher()"
   ]
  },
  {
   "cell_type": "code",
   "execution_count": 17,
   "metadata": {},
   "outputs": [
    {
     "name": "stdout",
     "output_type": "stream",
     "text": [
      "Jerry\n"
     ]
    }
   ],
   "source": [
    "Jerry = Person(21,\"Jerry\",\"Lion\")\n",
    "room.addStudent(Jerry)\n",
    "room.showStudents()"
   ]
  },
  {
   "cell_type": "code",
   "execution_count": 18,
   "metadata": {},
   "outputs": [
    {
     "name": "stdout",
     "output_type": "stream",
     "text": [
      "Jerry\n",
      "Alex\n"
     ]
    }
   ],
   "source": [
    "Alex = Person(22,\"Alex\",\"Melo\")\n",
    "room.addStudent(Alex)\n",
    "room.showStudents()"
   ]
  },
  {
   "cell_type": "code",
   "execution_count": null,
   "metadata": {},
   "outputs": [],
   "source": []
  }
 ],
 "metadata": {
  "kernelspec": {
   "display_name": "coms007",
   "language": "python",
   "name": "coms007"
  },
  "language_info": {
   "codemirror_mode": {
    "name": "ipython",
    "version": 3
   },
   "file_extension": ".py",
   "mimetype": "text/x-python",
   "name": "python",
   "nbconvert_exporter": "python",
   "pygments_lexer": "ipython3",
   "version": "3.6.5"
  }
 },
 "nbformat": 4,
 "nbformat_minor": 2
}
