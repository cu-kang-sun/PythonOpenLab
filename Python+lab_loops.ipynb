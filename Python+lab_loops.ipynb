{
 "cells": [
  {
   "cell_type": "markdown",
   "metadata": {},
   "source": [
    "# Loops"
   ]
  },
  {
   "cell_type": "markdown",
   "metadata": {},
   "source": [
    "Eases repitive work. There are two types of loops: \n",
    "1. For loops\n",
    "2. While Loops\n",
    "\n",
    "#### For \n",
    "Used for iterating when the number \"n\" is defined. \n",
    "\n",
    "#### While \n",
    "To do something as long as the condition is met.It works like this: \" while this is true, do this \"\n"
   ]
  },
  {
   "cell_type": "code",
   "execution_count": 1,
   "metadata": {},
   "outputs": [
    {
     "name": "stdout",
     "output_type": "stream",
     "text": [
      "spyder\n",
      "jupyter\n",
      "google colab\n",
      "terminal\n"
     ]
    }
   ],
   "source": [
    "l1= [\"spyder\",\"jupyter\", \"google colab\",\"terminal\"]\n",
    "for i in l1:\n",
    "    print(i)"
   ]
  },
  {
   "cell_type": "code",
   "execution_count": 37,
   "metadata": {},
   "outputs": [
    {
     "name": "stdout",
     "output_type": "stream",
     "text": [
      "1\n",
      "2\n",
      "3\n",
      "4\n",
      "5\n",
      "6\n",
      "7\n",
      "8\n",
      "9\n",
      "45\n"
     ]
    }
   ],
   "source": [
    "for i in range(1,10):\n",
    "    print(i)\n",
    "    \n",
    "sum=0\n",
    "for i in range(10):\n",
    "    sum+=i\n",
    "print(sum)"
   ]
  },
  {
   "cell_type": "code",
   "execution_count": 4,
   "metadata": {},
   "outputs": [
    {
     "name": "stdout",
     "output_type": "stream",
     "text": [
      "p\n",
      "y\n",
      "t\n",
      "h\n",
      "o\n",
      "n\n"
     ]
    }
   ],
   "source": [
    "s1 = \"python\"\n",
    "for i in s1:\n",
    "    print(i)\n"
   ]
  },
  {
   "cell_type": "code",
   "execution_count": 18,
   "metadata": {},
   "outputs": [
    {
     "name": "stdout",
     "output_type": "stream",
     "text": [
      "fruits ['apple', 'cherries', 'banana']\n",
      "flowers ['rose', 'jasmine']\n",
      "trees ['fir', 'aspen', 'birch']\n",
      "fruits\n",
      "flowers\n",
      "trees\n",
      "['apple', 'cherries', 'banana']\n",
      "['rose', 'jasmine']\n",
      "['fir', 'aspen', 'birch']\n",
      "fruits\n",
      "flowers\n",
      "trees\n"
     ]
    },
    {
     "data": {
      "text/plain": [
       "dict_values"
      ]
     },
     "execution_count": 18,
     "metadata": {},
     "output_type": "execute_result"
    }
   ],
   "source": [
    "d1 = {\"fruits\":[\"apple\",\"cherries\",\"banana\"],\n",
    "     \"flowers\":[\"rose\",\"jasmine\"],\n",
    "     \"trees\":[\"fir\",\"aspen\",\"birch\"]}\n",
    "for i in d1:\n",
    "    print((i),d1[i])\n",
    "for i in d1:\n",
    "    print(i)\n",
    "for i in d1:\n",
    "    print(d1[i])\n",
    "for key in d1.keys():\n",
    "    print(key)\n",
    "    "
   ]
  },
  {
   "cell_type": "code",
   "execution_count": 11,
   "metadata": {},
   "outputs": [
    {
     "name": "stdout",
     "output_type": "stream",
     "text": [
      "dict_keys(['fruits', 'flowers', 'trees'])\n",
      "dict_values([['apple', 'cherries', 'banana'], ['rose', 'jasmine'], ['fir', 'aspen', 'birch']])\n"
     ]
    }
   ],
   "source": [
    "d1 = {\"fruits\":[\"apple\",\"cherries\",\"banana\"],\n",
    "     \"flowers\":[\"rose\",\"jasmine\"],\n",
    "     \"trees\":[\"fir\",\"aspen\",\"birch\"]}\n",
    "print(d1.keys())\n",
    "print(d1.values())\n"
   ]
  },
  {
   "cell_type": "markdown",
   "metadata": {},
   "source": [
    "## While loops"
   ]
  },
  {
   "cell_type": "code",
   "execution_count": 50,
   "metadata": {},
   "outputs": [
    {
     "name": "stdout",
     "output_type": "stream",
     "text": [
      "spyder\n",
      "jupyter\n",
      "google colab\n",
      "terminal\n"
     ]
    }
   ],
   "source": [
    "l1= [\"spyder\",\"jupyter\", \"google colab\",\"terminal\"]\n",
    "i = 0\n",
    "while i < len(l1):\n",
    "    print( l1[i])\n",
    "    i = i + 1"
   ]
  },
  {
   "cell_type": "code",
   "execution_count": 47,
   "metadata": {},
   "outputs": [
    {
     "name": "stdout",
     "output_type": "stream",
     "text": [
      "1\n",
      "2\n",
      "3\n",
      "4\n",
      "5\n",
      "6\n",
      "7\n",
      "8\n",
      "9\n",
      "10\n",
      "11\n",
      "12\n",
      "13\n",
      "14\n",
      "15\n",
      "16\n",
      "17\n",
      "18\n",
      "19\n",
      "20\n",
      "21\n",
      "22\n",
      "23\n",
      "24\n",
      "25\n",
      "26\n",
      "27\n",
      "28\n",
      "29\n",
      "30\n",
      "31\n",
      "32\n",
      "33\n",
      "34\n",
      "35\n",
      "36\n",
      "37\n",
      "38\n",
      "39\n",
      "40\n",
      "41\n",
      "42\n",
      "43\n",
      "44\n",
      "45\n",
      "46\n",
      "47\n",
      "48\n",
      "49\n",
      "50\n",
      "51\n",
      "52\n",
      "53\n",
      "54\n",
      "55\n",
      "56\n",
      "57\n",
      "58\n",
      "59\n",
      "60\n",
      "61\n",
      "62\n",
      "63\n",
      "64\n",
      "65\n",
      "66\n",
      "67\n",
      "68\n",
      "69\n",
      "70\n",
      "71\n",
      "72\n",
      "73\n",
      "74\n",
      "75\n",
      "76\n",
      "77\n",
      "78\n",
      "79\n",
      "80\n",
      "81\n",
      "82\n",
      "83\n",
      "84\n",
      "85\n",
      "86\n",
      "87\n",
      "88\n",
      "89\n",
      "90\n",
      "91\n",
      "92\n",
      "93\n",
      "94\n",
      "95\n",
      "96\n",
      "97\n",
      "98\n",
      "99\n",
      "100\n"
     ]
    }
   ],
   "source": [
    "x = 0\n",
    "while x<100:\n",
    "    x = x+ 1\n",
    "    print(x)"
   ]
  },
  {
   "cell_type": "code",
   "execution_count": null,
   "metadata": {},
   "outputs": [],
   "source": [
    "while True:\n",
    "    answer = input(\"Do you like Python?\")\n",
    "    if answer == \"love it\":\n",
    "        break\n",
    "    print (\"Your answer was\", answer)"
   ]
  },
  {
   "cell_type": "code",
   "execution_count": null,
   "metadata": {
    "collapsed": true
   },
   "outputs": [],
   "source": []
  }
 ],
 "metadata": {
  "kernelspec": {
   "display_name": "Python 3",
   "language": "python",
   "name": "python3"
  },
  "language_info": {
   "codemirror_mode": {
    "name": "ipython",
    "version": 3
   },
   "file_extension": ".py",
   "mimetype": "text/x-python",
   "name": "python",
   "nbconvert_exporter": "python",
   "pygments_lexer": "ipython3",
   "version": "3.6.1"
  }
 },
 "nbformat": 4,
 "nbformat_minor": 2
}
