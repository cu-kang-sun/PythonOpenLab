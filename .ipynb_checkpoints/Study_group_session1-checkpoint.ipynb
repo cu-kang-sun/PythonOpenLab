{
 "cells": [
  {
   "cell_type": "markdown",
   "metadata": {},
   "source": [
    "## Values and types\n",
    "\n",
    "Built-in data-types in Python\n",
    "* int\n",
    "* float\n",
    "* str\n",
    "* bool\n",
    "\n",
    "You can use **type()** in python to know the data type. \n",
    "\n",
    "The function we use in R, **class()** is used in the sense of a category in Python. A type is a category of values. \n",
    "Integers belong to type **int** , strings belong to **str**, and floating point numbers belong to **float**. \n"
   ]
  },
  {
   "cell_type": "code",
   "execution_count": 1,
   "metadata": {},
   "outputs": [
    {
     "name": "stdout",
     "output_type": "stream",
     "text": [
      "<class 'int'>\n",
      "<class 'str'>\n",
      "<class 'float'>\n"
     ]
    }
   ],
   "source": [
    "print(type(2))\n",
    "print(type(\"hello\"))\n",
    "print(type(2.0))"
   ]
  },
  {
   "cell_type": "code",
   "execution_count": 8,
   "metadata": {},
   "outputs": [
    {
     "name": "stdout",
     "output_type": "stream",
     "text": [
      "<class 'float'>\n",
      "<class 'float'>\n",
      "<class 'int'>\n",
      "<class 'float'>\n"
     ]
    }
   ],
   "source": [
    "print(type(5/2)) #Division operator gives out a float! \n",
    "print(type(5.0/2.0)) \n",
    "print(type(5*2))#Multiplication doesn't!\n",
    "print(type(5.0*2.0))\n",
    "\n"
   ]
  },
  {
   "cell_type": "markdown",
   "metadata": {},
   "source": [
    "## Strings"
   ]
  },
  {
   "cell_type": "markdown",
   "metadata": {},
   "source": [
    "A string is a sequence i.e. it is an ordered collection of values. "
   ]
  },
  {
   "cell_type": "code",
   "execution_count": 5,
   "metadata": {},
   "outputs": [
    {
     "name": "stdout",
     "output_type": "stream",
     "text": [
      "E\n",
      "7\n"
     ]
    }
   ],
   "source": [
    "language= \"English\"\n",
    "print(language[0])\n",
    "print(len(language)) #print the length\n",
    "\n"
   ]
  },
  {
   "cell_type": "markdown",
   "metadata": {},
   "source": [
    "### Slicing"
   ]
  },
  {
   "cell_type": "code",
   "execution_count": 73,
   "metadata": {},
   "outputs": [
    {
     "name": "stdout",
     "output_type": "stream",
     "text": [
      "we ar\n",
      "python\n",
      "we are in python study grou\n",
      "puorg yduts nohtyp ni era ew\n",
      "we are in python study group\n"
     ]
    }
   ],
   "source": [
    "s=\"we are in python study group\"\n",
    "print(s[0:5]) \n",
    "print(s[10:16])\n",
    "print(s[:-1])\n",
    "print(s[::-1])\n",
    "print(s[:]) \n",
    "\n"
   ]
  },
  {
   "cell_type": "markdown",
   "metadata": {},
   "source": [
    "Strings are immutable i.e. you can't assign values by indexing. "
   ]
  },
  {
   "cell_type": "code",
   "execution_count": 74,
   "metadata": {},
   "outputs": [
    {
     "ename": "TypeError",
     "evalue": "'str' object does not support item assignment",
     "output_type": "error",
     "traceback": [
      "\u001b[0;31m---------------------------------------------------------------------------\u001b[0m",
      "\u001b[0;31mTypeError\u001b[0m                                 Traceback (most recent call last)",
      "\u001b[0;32m<ipython-input-74-640d68ebe1b9>\u001b[0m in \u001b[0;36m<module>\u001b[0;34m()\u001b[0m\n\u001b[1;32m      1\u001b[0m \u001b[0ms1\u001b[0m\u001b[0;34m=\u001b[0m\u001b[0;34m\"Hello\"\u001b[0m\u001b[0;34m\u001b[0m\u001b[0m\n\u001b[0;32m----> 2\u001b[0;31m \u001b[0ms1\u001b[0m\u001b[0;34m[\u001b[0m\u001b[0;36m0\u001b[0m\u001b[0;34m]\u001b[0m\u001b[0;34m=\u001b[0m\u001b[0;34m\"d\"\u001b[0m\u001b[0;34m\u001b[0m\u001b[0m\n\u001b[0m",
      "\u001b[0;31mTypeError\u001b[0m: 'str' object does not support item assignment"
     ]
    }
   ],
   "source": [
    "s1=\"Hello\"\n",
    "s1[0]=\"d\"   #notice the error"
   ]
  },
  {
   "cell_type": "markdown",
   "metadata": {},
   "source": [
    "### String methods"
   ]
  },
  {
   "cell_type": "code",
   "execution_count": 83,
   "metadata": {},
   "outputs": [
    {
     "name": "stdout",
     "output_type": "stream",
     "text": [
      "ALICE\n",
      "2\n",
      "2\n",
      "2\n"
     ]
    }
   ],
   "source": [
    "word=\"alice\"\n",
    "print(word.upper())\n",
    "print(word.find(\"i\"))\n",
    "print(word.find(\"ice\"))\n",
    "\n",
    "word2=\"babablacksheep\"\n",
    "print(word2.find(\"ba\",1)) #ignores the first two and start with index number 2\n"
   ]
  },
  {
   "cell_type": "markdown",
   "metadata": {
    "collapsed": true
   },
   "source": [
    "# Lists"
   ]
  },
  {
   "cell_type": "markdown",
   "metadata": {},
   "source": [
    "A list is a sequence of values. The values can be of any type, and each value is called **element**. \n",
    "\n",
    "There are several ways to create a list; the simplest being enclosing the elements in square brackets i.e. **[]** .\n"
   ]
  },
  {
   "cell_type": "code",
   "execution_count": 2,
   "metadata": {},
   "outputs": [
    {
     "name": "stdout",
     "output_type": "stream",
     "text": [
      "[['apple', 'orange', 'cherry', 'mango'], [3, 4, 5, 6]]\n"
     ]
    }
   ],
   "source": [
    "fruits= [\"apple\",\"orange\",\"cherry\",\"mango\"]\n",
    "number= [3,4,5,6]\n",
    "print([fruits,number]) #made a list of lists! \n"
   ]
  },
  {
   "cell_type": "markdown",
   "metadata": {},
   "source": [
    "Lists are **mutable** .\n"
   ]
  },
  {
   "cell_type": "code",
   "execution_count": 3,
   "metadata": {},
   "outputs": [
    {
     "name": "stdout",
     "output_type": "stream",
     "text": [
      "['banana', 'orange', 'cherry', 'mango']\n"
     ]
    }
   ],
   "source": [
    "fruits[0]=\"banana\"\n",
    "print(fruits)"
   ]
  },
  {
   "cell_type": "markdown",
   "metadata": {},
   "source": [
    "### Slicing lists"
   ]
  },
  {
   "cell_type": "code",
   "execution_count": 9,
   "metadata": {},
   "outputs": [
    {
     "name": "stdout",
     "output_type": "stream",
     "text": [
      "['orange', 'cherry']\n",
      "['banana', 'orange']\n",
      "['banana', 'cherry']\n",
      "['mango', 'cherry', 'orange', 'banana']\n"
     ]
    }
   ],
   "source": [
    "print(fruits[1:3])  #3rd element is exclusive\n",
    "print(fruits[:-2])  #skipped last two elements\n",
    "print(fruits[0:3:2])#every 2nd element\n",
    "print(fruits[::-1]) #backwards"
   ]
  },
  {
   "cell_type": "code",
   "execution_count": 6,
   "metadata": {},
   "outputs": [
    {
     "name": "stdout",
     "output_type": "stream",
     "text": [
      "['a', 'x', 'y', 'd', 'e', 'f']\n"
     ]
    }
   ],
   "source": [
    "t= [\"a\",\"b\",\"c\",\"d\",\"e\",\"f\"]\n",
    "t[1:3]= [\"x\",\"y\"] #indexed and changed values\n",
    "print (t)"
   ]
  },
  {
   "cell_type": "markdown",
   "metadata": {},
   "source": [
    "### List Operations"
   ]
  },
  {
   "cell_type": "code",
   "execution_count": 7,
   "metadata": {},
   "outputs": [
    {
     "name": "stdout",
     "output_type": "stream",
     "text": [
      "[1, 2, 3, 4, 5, 6, 7, 8]\n",
      "[0, 0, 0, 0]\n",
      "[1, 2, 3, 1, 2, 3, 1, 2, 3]\n",
      "[5, 10, 15, 20, 25]\n"
     ]
    }
   ],
   "source": [
    "a=[1,2,3,4]\n",
    "b=[5,6,7,8]\n",
    "c=a+b\n",
    "print(c)\n",
    "\n",
    "print([0]*4) #make a list of 0 \n",
    "\n",
    "print([1,2,3] * 3) \n",
    "\n",
    "my_list = [1, 2, 3, 4, 5]\n",
    "my_new_list = [i * 5 for i in my_list]\n",
    "\n",
    "print(my_new_list)"
   ]
  },
  {
   "cell_type": "markdown",
   "metadata": {},
   "source": [
    "#### Task for you! Create a list containing 10 zeros. Do this three different ways."
   ]
  },
  {
   "cell_type": "code",
   "execution_count": 12,
   "metadata": {},
   "outputs": [
    {
     "name": "stdout",
     "output_type": "stream",
     "text": [
      "[0, 0, 0, 0, 0, 0, 0, 0, 0, 0]\n",
      "[0, 0, 0, 0, 0, 0, 0, 0, 0, 0]\n",
      "[0, 0, 0, 0, 0, 0, 0, 0, 0, 0]\n"
     ]
    }
   ],
   "source": [
    "#1\n",
    "number=[0]\n",
    "n2=10*number\n",
    "print(n2)\n",
    "\n",
    "#2\n",
    "import itertools \n",
    "n3=list(itertools.repeat(0,10))\n",
    "print(n3)\n",
    "\n",
    "#3\n",
    "def gen_0(number):\n",
    "    return [0] * number\n",
    "\n",
    "list = gen_0(10)\n",
    "print(list)"
   ]
  },
  {
   "cell_type": "markdown",
   "metadata": {},
   "source": [
    "### List methods"
   ]
  },
  {
   "cell_type": "code",
   "execution_count": 17,
   "metadata": {},
   "outputs": [
    {
     "name": "stdout",
     "output_type": "stream",
     "text": [
      "['a', 'b', 'c', 'd']\n"
     ]
    }
   ],
   "source": [
    "t=[\"a\",\"b\",\"c\"]\n",
    "t.append(\"d\") #instead of making two lists and adding, Append method could be used.However, append takes only 1 argument\n",
    "print(t)"
   ]
  },
  {
   "cell_type": "markdown",
   "metadata": {},
   "source": [
    "#### Something to think about!"
   ]
  },
  {
   "cell_type": "code",
   "execution_count": 18,
   "metadata": {},
   "outputs": [
    {
     "name": "stdout",
     "output_type": "stream",
     "text": [
      "[1, 2, 3, 4]\n",
      "None\n",
      "[1, 2, 3]\n",
      "[1, 2, 3, 4]\n"
     ]
    }
   ],
   "source": [
    "t1=[1,2,3]\n",
    "t2=t1.append(4)\n",
    "print(t1)\n",
    "print(t2) #append is a method. That's why it modifies the list! \n",
    "\n",
    "t3=[1,2,3]\n",
    "t4=t3+[4]\n",
    "print(t3)\n",
    "print(t4) #this doesn't change the original list i.e. t3"
   ]
  },
  {
   "cell_type": "markdown",
   "metadata": {},
   "source": [
    "### Delete elements"
   ]
  },
  {
   "cell_type": "code",
   "execution_count": 8,
   "metadata": {},
   "outputs": [
    {
     "name": "stdout",
     "output_type": "stream",
     "text": [
      "['a', 'c', 'd']\n",
      "b\n",
      "['a', 'c']\n",
      "['a', 'c']\n"
     ]
    }
   ],
   "source": [
    "t=[\"a\",\"b\",\"c\",\"d\"]\n",
    "x= t.pop(1) #pop is a method\n",
    "print(t)\n",
    "print(x)\n",
    "\n",
    "s=[\"a\",\"b\",\"c\"]\n",
    "del s[1] #del is a function. try slicing- how about del s[0:2]? \n",
    "print(s)\n",
    "\n",
    "q=[\"a\",\"b\",\"c\"]\n",
    "q.remove(\"b\") #remove is a method\n",
    "print(q)"
   ]
  },
  {
   "cell_type": "markdown",
   "metadata": {},
   "source": [
    "## Dictionaries"
   ]
  },
  {
   "cell_type": "markdown",
   "metadata": {},
   "source": [
    "A **dictionary** is like a list. In a list, the indices have to be integers; in a dictionary they can be (almost) any type. \n",
    "\n",
    "A dictionary contains **keys**, which are indices and each of the values associated with these keys are called, **values**. \n",
    "\n",
    "**{}** are used to form a dictionary. "
   ]
  },
  {
   "cell_type": "code",
   "execution_count": 20,
   "metadata": {},
   "outputs": [
    {
     "data": {
      "text/plain": [
       "{'apple': 'red', 'cherry': 'red', 'orange': 'orange'}"
      ]
     },
     "execution_count": 20,
     "metadata": {},
     "output_type": "execute_result"
    }
   ],
   "source": [
    "d={} # This makes an empty dictionary\n",
    "d['apple']='red'\n",
    "d['cherry']='red'\n",
    "d['orange']='orange' # :P \n",
    "d"
   ]
  },
  {
   "cell_type": "markdown",
   "metadata": {},
   "source": [
    "Notice the values did not need to be unique, but the keys do. "
   ]
  },
  {
   "cell_type": "code",
   "execution_count": 28,
   "metadata": {},
   "outputs": [
    {
     "data": {
      "text/plain": [
       "{'Name': ['Tom Cruise', 'George Clooney'],\n",
       " 'Phone': [9011101010, 2738129372],\n",
       " 'email address': ['tomcruise@gmail.com', 'g.c@gmail.com']}"
      ]
     },
     "execution_count": 28,
     "metadata": {},
     "output_type": "execute_result"
    }
   ],
   "source": [
    "contact={}\n",
    "contact[\"Name\"]=[\"Tom Cruise\",\"George Clooney\"]\n",
    "contact[\"Phone\"]=[9011101010,2738129372]\n",
    "contact[\"email address\"]=[\"tomcruise@gmail.com\",\"g.c@gmail.com\"]\n",
    "contact\n"
   ]
  },
  {
   "cell_type": "code",
   "execution_count": 57,
   "metadata": {},
   "outputs": [
    {
     "name": "stdout",
     "output_type": "stream",
     "text": [
      "dict_keys(['hi', 'thank you', 'good'])\n",
      "dict_values(['Ni hao', 'xie xie', 'hao'])\n",
      "False\n",
      "True\n"
     ]
    }
   ],
   "source": [
    "eng2man={}\n",
    "eng2man[\"hi\"]=\"Ni hao\"\n",
    "eng2man[\"thank you\"]= \"xie xie\"\n",
    "eng2man[\"good\"]= \"hao\"\n",
    "eng2man[\"hi\"]\n",
    "\n",
    "print(eng2man.keys())\n",
    "\n",
    "print(eng2man.values())\n",
    "\n",
    "print(\"Ni hao\" in eng2man) #values \n",
    "print(\"hi\" in eng2man)     # key"
   ]
  },
  {
   "cell_type": "code",
   "execution_count": 9,
   "metadata": {},
   "outputs": [
    {
     "name": "stdout",
     "output_type": "stream",
     "text": [
      "dict_keys(['a', 'b', 'c'])\n",
      "0\n",
      "a 0\n",
      "b 1\n",
      "c 2\n"
     ]
    }
   ],
   "source": [
    "d={\"a\":0,\"b\":1,\"c\":2}\n",
    "print(d.keys())\n",
    "print(d[\"a\"])\n",
    "\n",
    "for k, v in d.items():   #items is a method \n",
    "    print(k, v)"
   ]
  },
  {
   "cell_type": "markdown",
   "metadata": {},
   "source": [
    "## Tuples"
   ]
  },
  {
   "cell_type": "markdown",
   "metadata": {},
   "source": [
    "A tuple is a sequence of values. The values can be of any type, and they are indexed by integers, so tuples are very much like lists. The most important difference is **tuples are immutable**\n",
    "\n",
    "They are comma separated. You may or may not add parentheses.  "
   ]
  },
  {
   "cell_type": "code",
   "execution_count": 63,
   "metadata": {},
   "outputs": [
    {
     "name": "stdout",
     "output_type": "stream",
     "text": [
      "('a', 'b', 'c', 'd', 'e')\n",
      "<class 'tuple'>\n",
      "<class 'tuple'>\n",
      "('a',)\n",
      "<class 'tuple'>\n",
      "<class 'str'>\n",
      "('t', 'u', 'p', 'l', 'e', 's')\n",
      "t\n",
      "('u', 'p', 'l')\n"
     ]
    }
   ],
   "source": [
    "t=\"a\",\"b\",\"c\",\"d\",\"e\"\n",
    "print(t)\n",
    "print(type(t))\n",
    "\n",
    "t1=(\"a\",\"b\",\"c\",\"d\",\"e\")\n",
    "print(type(t1))\n",
    "\n",
    "t2=\"a\", #make a tuple with one element\n",
    "print(t2)\n",
    "print(type(t2))\n",
    "\n",
    "#but....\n",
    "\n",
    "t3=(\"a\")\n",
    "print(type(t3))\n",
    "\n",
    "t4=tuple(\"tuples\")\n",
    "print(t4)\n",
    "\n",
    "print(t4[0])\n",
    "print(t4[1:4])\n",
    "\n",
    "## Try yourself!\n",
    "# t4[0]=\"D\" #works?  check the error. However, this would work in a list. Therefore, tuples are immutable.\n"
   ]
  },
  {
   "cell_type": "markdown",
   "metadata": {},
   "source": [
    "### Relational operators\n",
    "\n",
    "Python starts by comparing the first element from each sequence. If they are equal, it moves on to next till the time there is a difference."
   ]
  },
  {
   "cell_type": "code",
   "execution_count": 11,
   "metadata": {},
   "outputs": [
    {
     "data": {
      "text/plain": [
       "True"
      ]
     },
     "execution_count": 11,
     "metadata": {},
     "output_type": "execute_result"
    }
   ],
   "source": [
    "(0,1,2) < (0,3,4)\n",
    "(0,1,2) < (0,3,1)\n",
    "(0,2,1) > (0,3,0)"
   ]
  },
  {
   "cell_type": "markdown",
   "metadata": {},
   "source": [
    "### Lists and Tuples"
   ]
  },
  {
   "cell_type": "markdown",
   "metadata": {},
   "source": [
    "**zip** : A function that takes two or more sequences and returns a list of tuples. Here, each tuple contains one element from each sequence. "
   ]
  },
  {
   "cell_type": "code",
   "execution_count": 1,
   "metadata": {},
   "outputs": [
    {
     "name": "stdout",
     "output_type": "stream",
     "text": [
      "('a', 0)\n",
      "('b', 1)\n",
      "('c', 2)\n",
      "('d', 3)\n",
      "('e', 4)\n",
      "<class 'str'>\n"
     ]
    }
   ],
   "source": [
    "a=\"abcde\"\n",
    "b=[0,1,2,3,4]\n",
    "zip(a,b)\n",
    "\n",
    "for x in zip(a,b):\n",
    "    print(x)\n",
    "print(type(a))"
   ]
  },
  {
   "cell_type": "code",
   "execution_count": 13,
   "metadata": {},
   "outputs": [
    {
     "name": "stdout",
     "output_type": "stream",
     "text": [
      "('D', 'S')\n",
      "('o', 'h')\n",
      "('l', 'e')\n",
      "('l', 'e')\n",
      "('y', 'p')\n"
     ]
    }
   ],
   "source": [
    "for x in zip(\"Dolly\",\"Sheep\"):\n",
    "    print(x)"
   ]
  },
  {
   "cell_type": "markdown",
   "metadata": {},
   "source": [
    "## Sets"
   ]
  },
  {
   "cell_type": "markdown",
   "metadata": {},
   "source": [
    "* Behave like a collection of dictionary keys with no values. \n",
    "* Removes repeats from a list.\n",
    "* Apply methods or operators\n",
    "* Iterable\n",
    "* Unordered"
   ]
  },
  {
   "cell_type": "code",
   "execution_count": 67,
   "metadata": {},
   "outputs": [
    {
     "data": {
      "text/plain": [
       "{1, 2, 3, 4, 5, 6, 7}"
      ]
     },
     "execution_count": 67,
     "metadata": {},
     "output_type": "execute_result"
    }
   ],
   "source": [
    "s1=[1,2,7,7,3,4,5,6,6,6]\n",
    "set(s1)"
   ]
  },
  {
   "cell_type": "markdown",
   "metadata": {},
   "source": [
    "Following are the most used methods: \n",
    "\n",
    "* intersection: a & b or a.intersection(b)\n",
    "* union: a | b or a.union(b)\n",
    "* difference: a-b or a.difference(b)\n",
    "* symmetric difference: a^b or a.symmetric_difference(b)\n",
    "\n",
    "* superset: a >= b or a.issuperset(b)\n",
    "* subset: a<=b or a.issubset(b"
   ]
  },
  {
   "cell_type": "code",
   "execution_count": null,
   "metadata": {
    "collapsed": true
   },
   "outputs": [],
   "source": []
  }
 ],
 "metadata": {
  "kernelspec": {
   "display_name": "Python 3",
   "language": "python",
   "name": "python3"
  },
  "language_info": {
   "codemirror_mode": {
    "name": "ipython",
    "version": 3
   },
   "file_extension": ".py",
   "mimetype": "text/x-python",
   "name": "python",
   "nbconvert_exporter": "python",
   "pygments_lexer": "ipython3",
   "version": "3.6.1"
  }
 },
 "nbformat": 4,
 "nbformat_minor": 2
}
